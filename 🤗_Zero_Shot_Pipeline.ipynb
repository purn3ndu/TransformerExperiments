{
  "nbformat": 4,
  "nbformat_minor": 0,
  "metadata": {
    "colab": {
      "name": "🤗 Zero Shot Pipeline.ipynb",
      "provenance": [],
      "collapsed_sections": [],
      "include_colab_link": true
    },
    "kernelspec": {
      "name": "python3",
      "display_name": "Python 3"
    },
    "widgets": {
      "application/vnd.jupyter.widget-state+json": {
        "f8cc1e33c1234b8bae6d87141b5c2217": {
          "model_module": "@jupyter-widgets/controls",
          "model_name": "HBoxModel",
          "state": {
            "_view_name": "HBoxView",
            "_dom_classes": [],
            "_model_name": "HBoxModel",
            "_view_module": "@jupyter-widgets/controls",
            "_model_module_version": "1.5.0",
            "_view_count": null,
            "_view_module_version": "1.5.0",
            "box_style": "",
            "layout": "IPY_MODEL_0777ef6a62f447598a079a1ad881fbc3",
            "_model_module": "@jupyter-widgets/controls",
            "children": [
              "IPY_MODEL_598a6d40724d419d8b17088abe6828c6",
              "IPY_MODEL_a2011401fb11429d920474d724c0d74d"
            ]
          }
        },
        "0777ef6a62f447598a079a1ad881fbc3": {
          "model_module": "@jupyter-widgets/base",
          "model_name": "LayoutModel",
          "state": {
            "_view_name": "LayoutView",
            "grid_template_rows": null,
            "right": null,
            "justify_content": null,
            "_view_module": "@jupyter-widgets/base",
            "overflow": null,
            "_model_module_version": "1.2.0",
            "_view_count": null,
            "flex_flow": null,
            "width": null,
            "min_width": null,
            "border": null,
            "align_items": null,
            "bottom": null,
            "_model_module": "@jupyter-widgets/base",
            "top": null,
            "grid_column": null,
            "overflow_y": null,
            "overflow_x": null,
            "grid_auto_flow": null,
            "grid_area": null,
            "grid_template_columns": null,
            "flex": null,
            "_model_name": "LayoutModel",
            "justify_items": null,
            "grid_row": null,
            "max_height": null,
            "align_content": null,
            "visibility": null,
            "align_self": null,
            "height": null,
            "min_height": null,
            "padding": null,
            "grid_auto_rows": null,
            "grid_gap": null,
            "max_width": null,
            "order": null,
            "_view_module_version": "1.2.0",
            "grid_template_areas": null,
            "object_position": null,
            "object_fit": null,
            "grid_auto_columns": null,
            "margin": null,
            "display": null,
            "left": null
          }
        },
        "598a6d40724d419d8b17088abe6828c6": {
          "model_module": "@jupyter-widgets/controls",
          "model_name": "FloatProgressModel",
          "state": {
            "_view_name": "ProgressView",
            "style": "IPY_MODEL_3b342a6a26594a10a15e53923aa147aa",
            "_dom_classes": [],
            "description": "Downloading: 100%",
            "_model_name": "FloatProgressModel",
            "bar_style": "success",
            "max": 908,
            "_view_module": "@jupyter-widgets/controls",
            "_model_module_version": "1.5.0",
            "value": 908,
            "_view_count": null,
            "_view_module_version": "1.5.0",
            "orientation": "horizontal",
            "min": 0,
            "description_tooltip": null,
            "_model_module": "@jupyter-widgets/controls",
            "layout": "IPY_MODEL_1975378e0f3e4e0caa76608d16bbf38a"
          }
        },
        "a2011401fb11429d920474d724c0d74d": {
          "model_module": "@jupyter-widgets/controls",
          "model_name": "HTMLModel",
          "state": {
            "_view_name": "HTMLView",
            "style": "IPY_MODEL_8205482dc3a7413c87e3fe59a2fded96",
            "_dom_classes": [],
            "description": "",
            "_model_name": "HTMLModel",
            "placeholder": "​",
            "_view_module": "@jupyter-widgets/controls",
            "_model_module_version": "1.5.0",
            "value": " 908/908 [10:59&lt;00:00, 1.38B/s]",
            "_view_count": null,
            "_view_module_version": "1.5.0",
            "description_tooltip": null,
            "_model_module": "@jupyter-widgets/controls",
            "layout": "IPY_MODEL_51cc4e9cc96b42d6ac66468f9e9d286b"
          }
        },
        "3b342a6a26594a10a15e53923aa147aa": {
          "model_module": "@jupyter-widgets/controls",
          "model_name": "ProgressStyleModel",
          "state": {
            "_view_name": "StyleView",
            "_model_name": "ProgressStyleModel",
            "description_width": "initial",
            "_view_module": "@jupyter-widgets/base",
            "_model_module_version": "1.5.0",
            "_view_count": null,
            "_view_module_version": "1.2.0",
            "bar_color": null,
            "_model_module": "@jupyter-widgets/controls"
          }
        },
        "1975378e0f3e4e0caa76608d16bbf38a": {
          "model_module": "@jupyter-widgets/base",
          "model_name": "LayoutModel",
          "state": {
            "_view_name": "LayoutView",
            "grid_template_rows": null,
            "right": null,
            "justify_content": null,
            "_view_module": "@jupyter-widgets/base",
            "overflow": null,
            "_model_module_version": "1.2.0",
            "_view_count": null,
            "flex_flow": null,
            "width": null,
            "min_width": null,
            "border": null,
            "align_items": null,
            "bottom": null,
            "_model_module": "@jupyter-widgets/base",
            "top": null,
            "grid_column": null,
            "overflow_y": null,
            "overflow_x": null,
            "grid_auto_flow": null,
            "grid_area": null,
            "grid_template_columns": null,
            "flex": null,
            "_model_name": "LayoutModel",
            "justify_items": null,
            "grid_row": null,
            "max_height": null,
            "align_content": null,
            "visibility": null,
            "align_self": null,
            "height": null,
            "min_height": null,
            "padding": null,
            "grid_auto_rows": null,
            "grid_gap": null,
            "max_width": null,
            "order": null,
            "_view_module_version": "1.2.0",
            "grid_template_areas": null,
            "object_position": null,
            "object_fit": null,
            "grid_auto_columns": null,
            "margin": null,
            "display": null,
            "left": null
          }
        },
        "8205482dc3a7413c87e3fe59a2fded96": {
          "model_module": "@jupyter-widgets/controls",
          "model_name": "DescriptionStyleModel",
          "state": {
            "_view_name": "StyleView",
            "_model_name": "DescriptionStyleModel",
            "description_width": "",
            "_view_module": "@jupyter-widgets/base",
            "_model_module_version": "1.5.0",
            "_view_count": null,
            "_view_module_version": "1.2.0",
            "_model_module": "@jupyter-widgets/controls"
          }
        },
        "51cc4e9cc96b42d6ac66468f9e9d286b": {
          "model_module": "@jupyter-widgets/base",
          "model_name": "LayoutModel",
          "state": {
            "_view_name": "LayoutView",
            "grid_template_rows": null,
            "right": null,
            "justify_content": null,
            "_view_module": "@jupyter-widgets/base",
            "overflow": null,
            "_model_module_version": "1.2.0",
            "_view_count": null,
            "flex_flow": null,
            "width": null,
            "min_width": null,
            "border": null,
            "align_items": null,
            "bottom": null,
            "_model_module": "@jupyter-widgets/base",
            "top": null,
            "grid_column": null,
            "overflow_y": null,
            "overflow_x": null,
            "grid_auto_flow": null,
            "grid_area": null,
            "grid_template_columns": null,
            "flex": null,
            "_model_name": "LayoutModel",
            "justify_items": null,
            "grid_row": null,
            "max_height": null,
            "align_content": null,
            "visibility": null,
            "align_self": null,
            "height": null,
            "min_height": null,
            "padding": null,
            "grid_auto_rows": null,
            "grid_gap": null,
            "max_width": null,
            "order": null,
            "_view_module_version": "1.2.0",
            "grid_template_areas": null,
            "object_position": null,
            "object_fit": null,
            "grid_auto_columns": null,
            "margin": null,
            "display": null,
            "left": null
          }
        },
        "857251c06235442999cbbdf738f1d67a": {
          "model_module": "@jupyter-widgets/controls",
          "model_name": "HBoxModel",
          "state": {
            "_view_name": "HBoxView",
            "_dom_classes": [],
            "_model_name": "HBoxModel",
            "_view_module": "@jupyter-widgets/controls",
            "_model_module_version": "1.5.0",
            "_view_count": null,
            "_view_module_version": "1.5.0",
            "box_style": "",
            "layout": "IPY_MODEL_18af5049052f4dacb96746a4fc465f68",
            "_model_module": "@jupyter-widgets/controls",
            "children": [
              "IPY_MODEL_1278f1a051bc4532b75747c6387c5992",
              "IPY_MODEL_bcce9643f9af4d679f7caccd130f98ce"
            ]
          }
        },
        "18af5049052f4dacb96746a4fc465f68": {
          "model_module": "@jupyter-widgets/base",
          "model_name": "LayoutModel",
          "state": {
            "_view_name": "LayoutView",
            "grid_template_rows": null,
            "right": null,
            "justify_content": null,
            "_view_module": "@jupyter-widgets/base",
            "overflow": null,
            "_model_module_version": "1.2.0",
            "_view_count": null,
            "flex_flow": null,
            "width": null,
            "min_width": null,
            "border": null,
            "align_items": null,
            "bottom": null,
            "_model_module": "@jupyter-widgets/base",
            "top": null,
            "grid_column": null,
            "overflow_y": null,
            "overflow_x": null,
            "grid_auto_flow": null,
            "grid_area": null,
            "grid_template_columns": null,
            "flex": null,
            "_model_name": "LayoutModel",
            "justify_items": null,
            "grid_row": null,
            "max_height": null,
            "align_content": null,
            "visibility": null,
            "align_self": null,
            "height": null,
            "min_height": null,
            "padding": null,
            "grid_auto_rows": null,
            "grid_gap": null,
            "max_width": null,
            "order": null,
            "_view_module_version": "1.2.0",
            "grid_template_areas": null,
            "object_position": null,
            "object_fit": null,
            "grid_auto_columns": null,
            "margin": null,
            "display": null,
            "left": null
          }
        },
        "1278f1a051bc4532b75747c6387c5992": {
          "model_module": "@jupyter-widgets/controls",
          "model_name": "FloatProgressModel",
          "state": {
            "_view_name": "ProgressView",
            "style": "IPY_MODEL_9cacf819dff044b995d231d79319f04c",
            "_dom_classes": [],
            "description": "Downloading: 100%",
            "_model_name": "FloatProgressModel",
            "bar_style": "success",
            "max": 898823,
            "_view_module": "@jupyter-widgets/controls",
            "_model_module_version": "1.5.0",
            "value": 898823,
            "_view_count": null,
            "_view_module_version": "1.5.0",
            "orientation": "horizontal",
            "min": 0,
            "description_tooltip": null,
            "_model_module": "@jupyter-widgets/controls",
            "layout": "IPY_MODEL_7db0369de2374a3d92622bbdf538bbe7"
          }
        },
        "bcce9643f9af4d679f7caccd130f98ce": {
          "model_module": "@jupyter-widgets/controls",
          "model_name": "HTMLModel",
          "state": {
            "_view_name": "HTMLView",
            "style": "IPY_MODEL_e3c9424b74b646e6a2ef37e86cbd7f8b",
            "_dom_classes": [],
            "description": "",
            "_model_name": "HTMLModel",
            "placeholder": "​",
            "_view_module": "@jupyter-widgets/controls",
            "_model_module_version": "1.5.0",
            "value": " 899k/899k [00:00&lt;00:00, 1.89MB/s]",
            "_view_count": null,
            "_view_module_version": "1.5.0",
            "description_tooltip": null,
            "_model_module": "@jupyter-widgets/controls",
            "layout": "IPY_MODEL_e12ef8973f9a4a28b44aad4115b4d5aa"
          }
        },
        "9cacf819dff044b995d231d79319f04c": {
          "model_module": "@jupyter-widgets/controls",
          "model_name": "ProgressStyleModel",
          "state": {
            "_view_name": "StyleView",
            "_model_name": "ProgressStyleModel",
            "description_width": "initial",
            "_view_module": "@jupyter-widgets/base",
            "_model_module_version": "1.5.0",
            "_view_count": null,
            "_view_module_version": "1.2.0",
            "bar_color": null,
            "_model_module": "@jupyter-widgets/controls"
          }
        },
        "7db0369de2374a3d92622bbdf538bbe7": {
          "model_module": "@jupyter-widgets/base",
          "model_name": "LayoutModel",
          "state": {
            "_view_name": "LayoutView",
            "grid_template_rows": null,
            "right": null,
            "justify_content": null,
            "_view_module": "@jupyter-widgets/base",
            "overflow": null,
            "_model_module_version": "1.2.0",
            "_view_count": null,
            "flex_flow": null,
            "width": null,
            "min_width": null,
            "border": null,
            "align_items": null,
            "bottom": null,
            "_model_module": "@jupyter-widgets/base",
            "top": null,
            "grid_column": null,
            "overflow_y": null,
            "overflow_x": null,
            "grid_auto_flow": null,
            "grid_area": null,
            "grid_template_columns": null,
            "flex": null,
            "_model_name": "LayoutModel",
            "justify_items": null,
            "grid_row": null,
            "max_height": null,
            "align_content": null,
            "visibility": null,
            "align_self": null,
            "height": null,
            "min_height": null,
            "padding": null,
            "grid_auto_rows": null,
            "grid_gap": null,
            "max_width": null,
            "order": null,
            "_view_module_version": "1.2.0",
            "grid_template_areas": null,
            "object_position": null,
            "object_fit": null,
            "grid_auto_columns": null,
            "margin": null,
            "display": null,
            "left": null
          }
        },
        "e3c9424b74b646e6a2ef37e86cbd7f8b": {
          "model_module": "@jupyter-widgets/controls",
          "model_name": "DescriptionStyleModel",
          "state": {
            "_view_name": "StyleView",
            "_model_name": "DescriptionStyleModel",
            "description_width": "",
            "_view_module": "@jupyter-widgets/base",
            "_model_module_version": "1.5.0",
            "_view_count": null,
            "_view_module_version": "1.2.0",
            "_model_module": "@jupyter-widgets/controls"
          }
        },
        "e12ef8973f9a4a28b44aad4115b4d5aa": {
          "model_module": "@jupyter-widgets/base",
          "model_name": "LayoutModel",
          "state": {
            "_view_name": "LayoutView",
            "grid_template_rows": null,
            "right": null,
            "justify_content": null,
            "_view_module": "@jupyter-widgets/base",
            "overflow": null,
            "_model_module_version": "1.2.0",
            "_view_count": null,
            "flex_flow": null,
            "width": null,
            "min_width": null,
            "border": null,
            "align_items": null,
            "bottom": null,
            "_model_module": "@jupyter-widgets/base",
            "top": null,
            "grid_column": null,
            "overflow_y": null,
            "overflow_x": null,
            "grid_auto_flow": null,
            "grid_area": null,
            "grid_template_columns": null,
            "flex": null,
            "_model_name": "LayoutModel",
            "justify_items": null,
            "grid_row": null,
            "max_height": null,
            "align_content": null,
            "visibility": null,
            "align_self": null,
            "height": null,
            "min_height": null,
            "padding": null,
            "grid_auto_rows": null,
            "grid_gap": null,
            "max_width": null,
            "order": null,
            "_view_module_version": "1.2.0",
            "grid_template_areas": null,
            "object_position": null,
            "object_fit": null,
            "grid_auto_columns": null,
            "margin": null,
            "display": null,
            "left": null
          }
        },
        "ee6fac28857d40f998cf599962216d9e": {
          "model_module": "@jupyter-widgets/controls",
          "model_name": "HBoxModel",
          "state": {
            "_view_name": "HBoxView",
            "_dom_classes": [],
            "_model_name": "HBoxModel",
            "_view_module": "@jupyter-widgets/controls",
            "_model_module_version": "1.5.0",
            "_view_count": null,
            "_view_module_version": "1.5.0",
            "box_style": "",
            "layout": "IPY_MODEL_a44e5dbec5d34f79969647e5a2b765d3",
            "_model_module": "@jupyter-widgets/controls",
            "children": [
              "IPY_MODEL_47fe8a2622fb4ff8986629fde5dc371f",
              "IPY_MODEL_820627e14d404353a7fb4a45ff50c327"
            ]
          }
        },
        "a44e5dbec5d34f79969647e5a2b765d3": {
          "model_module": "@jupyter-widgets/base",
          "model_name": "LayoutModel",
          "state": {
            "_view_name": "LayoutView",
            "grid_template_rows": null,
            "right": null,
            "justify_content": null,
            "_view_module": "@jupyter-widgets/base",
            "overflow": null,
            "_model_module_version": "1.2.0",
            "_view_count": null,
            "flex_flow": null,
            "width": null,
            "min_width": null,
            "border": null,
            "align_items": null,
            "bottom": null,
            "_model_module": "@jupyter-widgets/base",
            "top": null,
            "grid_column": null,
            "overflow_y": null,
            "overflow_x": null,
            "grid_auto_flow": null,
            "grid_area": null,
            "grid_template_columns": null,
            "flex": null,
            "_model_name": "LayoutModel",
            "justify_items": null,
            "grid_row": null,
            "max_height": null,
            "align_content": null,
            "visibility": null,
            "align_self": null,
            "height": null,
            "min_height": null,
            "padding": null,
            "grid_auto_rows": null,
            "grid_gap": null,
            "max_width": null,
            "order": null,
            "_view_module_version": "1.2.0",
            "grid_template_areas": null,
            "object_position": null,
            "object_fit": null,
            "grid_auto_columns": null,
            "margin": null,
            "display": null,
            "left": null
          }
        },
        "47fe8a2622fb4ff8986629fde5dc371f": {
          "model_module": "@jupyter-widgets/controls",
          "model_name": "FloatProgressModel",
          "state": {
            "_view_name": "ProgressView",
            "style": "IPY_MODEL_1616e33db15f4ed3bc998df57bf29270",
            "_dom_classes": [],
            "description": "Downloading: 100%",
            "_model_name": "FloatProgressModel",
            "bar_style": "success",
            "max": 456318,
            "_view_module": "@jupyter-widgets/controls",
            "_model_module_version": "1.5.0",
            "value": 456318,
            "_view_count": null,
            "_view_module_version": "1.5.0",
            "orientation": "horizontal",
            "min": 0,
            "description_tooltip": null,
            "_model_module": "@jupyter-widgets/controls",
            "layout": "IPY_MODEL_d29f94a2ea8d43e09f68d69ddccfd6b8"
          }
        },
        "820627e14d404353a7fb4a45ff50c327": {
          "model_module": "@jupyter-widgets/controls",
          "model_name": "HTMLModel",
          "state": {
            "_view_name": "HTMLView",
            "style": "IPY_MODEL_906e6e59405b443d87d3d513eac06d60",
            "_dom_classes": [],
            "description": "",
            "_model_name": "HTMLModel",
            "placeholder": "​",
            "_view_module": "@jupyter-widgets/controls",
            "_model_module_version": "1.5.0",
            "value": " 456k/456k [00:00&lt;00:00, 3.14MB/s]",
            "_view_count": null,
            "_view_module_version": "1.5.0",
            "description_tooltip": null,
            "_model_module": "@jupyter-widgets/controls",
            "layout": "IPY_MODEL_0d1e4a64857b4b8ab0fe952e041b5453"
          }
        },
        "1616e33db15f4ed3bc998df57bf29270": {
          "model_module": "@jupyter-widgets/controls",
          "model_name": "ProgressStyleModel",
          "state": {
            "_view_name": "StyleView",
            "_model_name": "ProgressStyleModel",
            "description_width": "initial",
            "_view_module": "@jupyter-widgets/base",
            "_model_module_version": "1.5.0",
            "_view_count": null,
            "_view_module_version": "1.2.0",
            "bar_color": null,
            "_model_module": "@jupyter-widgets/controls"
          }
        },
        "d29f94a2ea8d43e09f68d69ddccfd6b8": {
          "model_module": "@jupyter-widgets/base",
          "model_name": "LayoutModel",
          "state": {
            "_view_name": "LayoutView",
            "grid_template_rows": null,
            "right": null,
            "justify_content": null,
            "_view_module": "@jupyter-widgets/base",
            "overflow": null,
            "_model_module_version": "1.2.0",
            "_view_count": null,
            "flex_flow": null,
            "width": null,
            "min_width": null,
            "border": null,
            "align_items": null,
            "bottom": null,
            "_model_module": "@jupyter-widgets/base",
            "top": null,
            "grid_column": null,
            "overflow_y": null,
            "overflow_x": null,
            "grid_auto_flow": null,
            "grid_area": null,
            "grid_template_columns": null,
            "flex": null,
            "_model_name": "LayoutModel",
            "justify_items": null,
            "grid_row": null,
            "max_height": null,
            "align_content": null,
            "visibility": null,
            "align_self": null,
            "height": null,
            "min_height": null,
            "padding": null,
            "grid_auto_rows": null,
            "grid_gap": null,
            "max_width": null,
            "order": null,
            "_view_module_version": "1.2.0",
            "grid_template_areas": null,
            "object_position": null,
            "object_fit": null,
            "grid_auto_columns": null,
            "margin": null,
            "display": null,
            "left": null
          }
        },
        "906e6e59405b443d87d3d513eac06d60": {
          "model_module": "@jupyter-widgets/controls",
          "model_name": "DescriptionStyleModel",
          "state": {
            "_view_name": "StyleView",
            "_model_name": "DescriptionStyleModel",
            "description_width": "",
            "_view_module": "@jupyter-widgets/base",
            "_model_module_version": "1.5.0",
            "_view_count": null,
            "_view_module_version": "1.2.0",
            "_model_module": "@jupyter-widgets/controls"
          }
        },
        "0d1e4a64857b4b8ab0fe952e041b5453": {
          "model_module": "@jupyter-widgets/base",
          "model_name": "LayoutModel",
          "state": {
            "_view_name": "LayoutView",
            "grid_template_rows": null,
            "right": null,
            "justify_content": null,
            "_view_module": "@jupyter-widgets/base",
            "overflow": null,
            "_model_module_version": "1.2.0",
            "_view_count": null,
            "flex_flow": null,
            "width": null,
            "min_width": null,
            "border": null,
            "align_items": null,
            "bottom": null,
            "_model_module": "@jupyter-widgets/base",
            "top": null,
            "grid_column": null,
            "overflow_y": null,
            "overflow_x": null,
            "grid_auto_flow": null,
            "grid_area": null,
            "grid_template_columns": null,
            "flex": null,
            "_model_name": "LayoutModel",
            "justify_items": null,
            "grid_row": null,
            "max_height": null,
            "align_content": null,
            "visibility": null,
            "align_self": null,
            "height": null,
            "min_height": null,
            "padding": null,
            "grid_auto_rows": null,
            "grid_gap": null,
            "max_width": null,
            "order": null,
            "_view_module_version": "1.2.0",
            "grid_template_areas": null,
            "object_position": null,
            "object_fit": null,
            "grid_auto_columns": null,
            "margin": null,
            "display": null,
            "left": null
          }
        },
        "57f9c6425c114045a20dddcfd27b3e89": {
          "model_module": "@jupyter-widgets/controls",
          "model_name": "HBoxModel",
          "state": {
            "_view_name": "HBoxView",
            "_dom_classes": [],
            "_model_name": "HBoxModel",
            "_view_module": "@jupyter-widgets/controls",
            "_model_module_version": "1.5.0",
            "_view_count": null,
            "_view_module_version": "1.5.0",
            "box_style": "",
            "layout": "IPY_MODEL_9a6da6e6c3f541c59d3e49be479e520a",
            "_model_module": "@jupyter-widgets/controls",
            "children": [
              "IPY_MODEL_36d00914104843548b64f2c2655f13b2",
              "IPY_MODEL_4521c371c5284a79970152b12f61aaba"
            ]
          }
        },
        "9a6da6e6c3f541c59d3e49be479e520a": {
          "model_module": "@jupyter-widgets/base",
          "model_name": "LayoutModel",
          "state": {
            "_view_name": "LayoutView",
            "grid_template_rows": null,
            "right": null,
            "justify_content": null,
            "_view_module": "@jupyter-widgets/base",
            "overflow": null,
            "_model_module_version": "1.2.0",
            "_view_count": null,
            "flex_flow": null,
            "width": null,
            "min_width": null,
            "border": null,
            "align_items": null,
            "bottom": null,
            "_model_module": "@jupyter-widgets/base",
            "top": null,
            "grid_column": null,
            "overflow_y": null,
            "overflow_x": null,
            "grid_auto_flow": null,
            "grid_area": null,
            "grid_template_columns": null,
            "flex": null,
            "_model_name": "LayoutModel",
            "justify_items": null,
            "grid_row": null,
            "max_height": null,
            "align_content": null,
            "visibility": null,
            "align_self": null,
            "height": null,
            "min_height": null,
            "padding": null,
            "grid_auto_rows": null,
            "grid_gap": null,
            "max_width": null,
            "order": null,
            "_view_module_version": "1.2.0",
            "grid_template_areas": null,
            "object_position": null,
            "object_fit": null,
            "grid_auto_columns": null,
            "margin": null,
            "display": null,
            "left": null
          }
        },
        "36d00914104843548b64f2c2655f13b2": {
          "model_module": "@jupyter-widgets/controls",
          "model_name": "FloatProgressModel",
          "state": {
            "_view_name": "ProgressView",
            "style": "IPY_MODEL_e91b282b7bd9435194aa212348cdb311",
            "_dom_classes": [],
            "description": "Downloading: 100%",
            "_model_name": "FloatProgressModel",
            "bar_style": "success",
            "max": 1629486723,
            "_view_module": "@jupyter-widgets/controls",
            "_model_module_version": "1.5.0",
            "value": 1629486723,
            "_view_count": null,
            "_view_module_version": "1.5.0",
            "orientation": "horizontal",
            "min": 0,
            "description_tooltip": null,
            "_model_module": "@jupyter-widgets/controls",
            "layout": "IPY_MODEL_42349267c0e541c6851afb42f86d245e"
          }
        },
        "4521c371c5284a79970152b12f61aaba": {
          "model_module": "@jupyter-widgets/controls",
          "model_name": "HTMLModel",
          "state": {
            "_view_name": "HTMLView",
            "style": "IPY_MODEL_167066d89715415ea2d0ca470ae9ac9f",
            "_dom_classes": [],
            "description": "",
            "_model_name": "HTMLModel",
            "placeholder": "​",
            "_view_module": "@jupyter-widgets/controls",
            "_model_module_version": "1.5.0",
            "value": " 1.63G/1.63G [00:26&lt;00:00, 61.8MB/s]",
            "_view_count": null,
            "_view_module_version": "1.5.0",
            "description_tooltip": null,
            "_model_module": "@jupyter-widgets/controls",
            "layout": "IPY_MODEL_f5c29c94e63a4feeba338c4d360d3b86"
          }
        },
        "e91b282b7bd9435194aa212348cdb311": {
          "model_module": "@jupyter-widgets/controls",
          "model_name": "ProgressStyleModel",
          "state": {
            "_view_name": "StyleView",
            "_model_name": "ProgressStyleModel",
            "description_width": "initial",
            "_view_module": "@jupyter-widgets/base",
            "_model_module_version": "1.5.0",
            "_view_count": null,
            "_view_module_version": "1.2.0",
            "bar_color": null,
            "_model_module": "@jupyter-widgets/controls"
          }
        },
        "42349267c0e541c6851afb42f86d245e": {
          "model_module": "@jupyter-widgets/base",
          "model_name": "LayoutModel",
          "state": {
            "_view_name": "LayoutView",
            "grid_template_rows": null,
            "right": null,
            "justify_content": null,
            "_view_module": "@jupyter-widgets/base",
            "overflow": null,
            "_model_module_version": "1.2.0",
            "_view_count": null,
            "flex_flow": null,
            "width": null,
            "min_width": null,
            "border": null,
            "align_items": null,
            "bottom": null,
            "_model_module": "@jupyter-widgets/base",
            "top": null,
            "grid_column": null,
            "overflow_y": null,
            "overflow_x": null,
            "grid_auto_flow": null,
            "grid_area": null,
            "grid_template_columns": null,
            "flex": null,
            "_model_name": "LayoutModel",
            "justify_items": null,
            "grid_row": null,
            "max_height": null,
            "align_content": null,
            "visibility": null,
            "align_self": null,
            "height": null,
            "min_height": null,
            "padding": null,
            "grid_auto_rows": null,
            "grid_gap": null,
            "max_width": null,
            "order": null,
            "_view_module_version": "1.2.0",
            "grid_template_areas": null,
            "object_position": null,
            "object_fit": null,
            "grid_auto_columns": null,
            "margin": null,
            "display": null,
            "left": null
          }
        },
        "167066d89715415ea2d0ca470ae9ac9f": {
          "model_module": "@jupyter-widgets/controls",
          "model_name": "DescriptionStyleModel",
          "state": {
            "_view_name": "StyleView",
            "_model_name": "DescriptionStyleModel",
            "description_width": "",
            "_view_module": "@jupyter-widgets/base",
            "_model_module_version": "1.5.0",
            "_view_count": null,
            "_view_module_version": "1.2.0",
            "_model_module": "@jupyter-widgets/controls"
          }
        },
        "f5c29c94e63a4feeba338c4d360d3b86": {
          "model_module": "@jupyter-widgets/base",
          "model_name": "LayoutModel",
          "state": {
            "_view_name": "LayoutView",
            "grid_template_rows": null,
            "right": null,
            "justify_content": null,
            "_view_module": "@jupyter-widgets/base",
            "overflow": null,
            "_model_module_version": "1.2.0",
            "_view_count": null,
            "flex_flow": null,
            "width": null,
            "min_width": null,
            "border": null,
            "align_items": null,
            "bottom": null,
            "_model_module": "@jupyter-widgets/base",
            "top": null,
            "grid_column": null,
            "overflow_y": null,
            "overflow_x": null,
            "grid_auto_flow": null,
            "grid_area": null,
            "grid_template_columns": null,
            "flex": null,
            "_model_name": "LayoutModel",
            "justify_items": null,
            "grid_row": null,
            "max_height": null,
            "align_content": null,
            "visibility": null,
            "align_self": null,
            "height": null,
            "min_height": null,
            "padding": null,
            "grid_auto_rows": null,
            "grid_gap": null,
            "max_width": null,
            "order": null,
            "_view_module_version": "1.2.0",
            "grid_template_areas": null,
            "object_position": null,
            "object_fit": null,
            "grid_auto_columns": null,
            "margin": null,
            "display": null,
            "left": null
          }
        }
      }
    }
  },
  "cells": [
    {
      "cell_type": "markdown",
      "metadata": {
        "id": "view-in-github",
        "colab_type": "text"
      },
      "source": [
        "<a href=\"https://colab.research.google.com/github/purn3ndu/TransformerExperiments/blob/master/%F0%9F%A4%97_Zero_Shot_Pipeline.ipynb\" target=\"_parent\"><img src=\"https://colab.research.google.com/assets/colab-badge.svg\" alt=\"Open In Colab\"/></a>"
      ]
    },
    {
      "cell_type": "code",
      "metadata": {
        "id": "yTBP_QYuu6tc",
        "colab_type": "code",
        "colab": {
          "base_uri": "https://localhost:8080/",
          "height": 646
        },
        "outputId": "2dc273e8-6f41-43fa-96f1-189f44fe7ff6"
      },
      "source": [
        "!pip install git+https://github.com/huggingface/transformers.git"
      ],
      "execution_count": 1,
      "outputs": [
        {
          "output_type": "stream",
          "text": [
            "Collecting git+https://github.com/huggingface/transformers.git\n",
            "  Cloning https://github.com/huggingface/transformers.git to /tmp/pip-req-build-w70mplg8\n",
            "  Running command git clone -q https://github.com/huggingface/transformers.git /tmp/pip-req-build-w70mplg8\n",
            "Requirement already satisfied: numpy in /usr/local/lib/python3.6/dist-packages (from transformers==3.0.2) (1.18.5)\n",
            "Collecting tokenizers==0.8.1.rc2\n",
            "\u001b[?25l  Downloading https://files.pythonhosted.org/packages/80/83/8b9fccb9e48eeb575ee19179e2bdde0ee9a1904f97de5f02d19016b8804f/tokenizers-0.8.1rc2-cp36-cp36m-manylinux1_x86_64.whl (3.0MB)\n",
            "\u001b[K     |████████████████████████████████| 3.0MB 2.9MB/s \n",
            "\u001b[?25hRequirement already satisfied: packaging in /usr/local/lib/python3.6/dist-packages (from transformers==3.0.2) (20.4)\n",
            "Requirement already satisfied: filelock in /usr/local/lib/python3.6/dist-packages (from transformers==3.0.2) (3.0.12)\n",
            "Requirement already satisfied: requests in /usr/local/lib/python3.6/dist-packages (from transformers==3.0.2) (2.23.0)\n",
            "Requirement already satisfied: tqdm>=4.27 in /usr/local/lib/python3.6/dist-packages (from transformers==3.0.2) (4.41.1)\n",
            "Requirement already satisfied: regex!=2019.12.17 in /usr/local/lib/python3.6/dist-packages (from transformers==3.0.2) (2019.12.20)\n",
            "Collecting sentencepiece!=0.1.92\n",
            "\u001b[?25l  Downloading https://files.pythonhosted.org/packages/d4/a4/d0a884c4300004a78cca907a6ff9a5e9fe4f090f5d95ab341c53d28cbc58/sentencepiece-0.1.91-cp36-cp36m-manylinux1_x86_64.whl (1.1MB)\n",
            "\u001b[K     |████████████████████████████████| 1.1MB 16.7MB/s \n",
            "\u001b[?25hCollecting sacremoses\n",
            "\u001b[?25l  Downloading https://files.pythonhosted.org/packages/7d/34/09d19aff26edcc8eb2a01bed8e98f13a1537005d31e95233fd48216eed10/sacremoses-0.0.43.tar.gz (883kB)\n",
            "\u001b[K     |████████████████████████████████| 890kB 33.0MB/s \n",
            "\u001b[?25hRequirement already satisfied: dataclasses in /usr/local/lib/python3.6/dist-packages (from transformers==3.0.2) (0.7)\n",
            "Requirement already satisfied: six in /usr/local/lib/python3.6/dist-packages (from packaging->transformers==3.0.2) (1.15.0)\n",
            "Requirement already satisfied: pyparsing>=2.0.2 in /usr/local/lib/python3.6/dist-packages (from packaging->transformers==3.0.2) (2.4.7)\n",
            "Requirement already satisfied: certifi>=2017.4.17 in /usr/local/lib/python3.6/dist-packages (from requests->transformers==3.0.2) (2020.6.20)\n",
            "Requirement already satisfied: idna<3,>=2.5 in /usr/local/lib/python3.6/dist-packages (from requests->transformers==3.0.2) (2.10)\n",
            "Requirement already satisfied: chardet<4,>=3.0.2 in /usr/local/lib/python3.6/dist-packages (from requests->transformers==3.0.2) (3.0.4)\n",
            "Requirement already satisfied: urllib3!=1.25.0,!=1.25.1,<1.26,>=1.21.1 in /usr/local/lib/python3.6/dist-packages (from requests->transformers==3.0.2) (1.24.3)\n",
            "Requirement already satisfied: click in /usr/local/lib/python3.6/dist-packages (from sacremoses->transformers==3.0.2) (7.1.2)\n",
            "Requirement already satisfied: joblib in /usr/local/lib/python3.6/dist-packages (from sacremoses->transformers==3.0.2) (0.16.0)\n",
            "Building wheels for collected packages: transformers, sacremoses\n",
            "  Building wheel for transformers (setup.py) ... \u001b[?25l\u001b[?25hdone\n",
            "  Created wheel for transformers: filename=transformers-3.0.2-cp36-none-any.whl size=852115 sha256=23443c3bb5e1ce08258c8a27e49b80aef989309a2d19fd9923c986d2bb7e7576\n",
            "  Stored in directory: /tmp/pip-ephem-wheel-cache-myuot4gk/wheels/33/eb/3b/4bf5dd835e865e472d4fc0754f35ac0edb08fe852e8f21655f\n",
            "  Building wheel for sacremoses (setup.py) ... \u001b[?25l\u001b[?25hdone\n",
            "  Created wheel for sacremoses: filename=sacremoses-0.0.43-cp36-none-any.whl size=893260 sha256=a5970971214a7d2f7865918b1df822e73740a72148fda7e30e1c1439ff40d0ad\n",
            "  Stored in directory: /root/.cache/pip/wheels/29/3c/fd/7ce5c3f0666dab31a50123635e6fb5e19ceb42ce38d4e58f45\n",
            "Successfully built transformers sacremoses\n",
            "Installing collected packages: tokenizers, sentencepiece, sacremoses, transformers\n",
            "Successfully installed sacremoses-0.0.43 sentencepiece-0.1.91 tokenizers-0.8.1rc2 transformers-3.0.2\n"
          ],
          "name": "stdout"
        }
      ]
    },
    {
      "cell_type": "code",
      "metadata": {
        "id": "TiU_ES5tzpMH",
        "colab_type": "code",
        "colab": {}
      },
      "source": [
        "from transformers import pipeline"
      ],
      "execution_count": 2,
      "outputs": []
    },
    {
      "cell_type": "code",
      "metadata": {
        "id": "spkccRiv0CB3",
        "colab_type": "code",
        "colab": {
          "base_uri": "https://localhost:8080/",
          "height": 284,
          "referenced_widgets": [
            "f8cc1e33c1234b8bae6d87141b5c2217",
            "0777ef6a62f447598a079a1ad881fbc3",
            "598a6d40724d419d8b17088abe6828c6",
            "a2011401fb11429d920474d724c0d74d",
            "3b342a6a26594a10a15e53923aa147aa",
            "1975378e0f3e4e0caa76608d16bbf38a",
            "8205482dc3a7413c87e3fe59a2fded96",
            "51cc4e9cc96b42d6ac66468f9e9d286b",
            "857251c06235442999cbbdf738f1d67a",
            "18af5049052f4dacb96746a4fc465f68",
            "1278f1a051bc4532b75747c6387c5992",
            "bcce9643f9af4d679f7caccd130f98ce",
            "9cacf819dff044b995d231d79319f04c",
            "7db0369de2374a3d92622bbdf538bbe7",
            "e3c9424b74b646e6a2ef37e86cbd7f8b",
            "e12ef8973f9a4a28b44aad4115b4d5aa",
            "ee6fac28857d40f998cf599962216d9e",
            "a44e5dbec5d34f79969647e5a2b765d3",
            "47fe8a2622fb4ff8986629fde5dc371f",
            "820627e14d404353a7fb4a45ff50c327",
            "1616e33db15f4ed3bc998df57bf29270",
            "d29f94a2ea8d43e09f68d69ddccfd6b8",
            "906e6e59405b443d87d3d513eac06d60",
            "0d1e4a64857b4b8ab0fe952e041b5453",
            "57f9c6425c114045a20dddcfd27b3e89",
            "9a6da6e6c3f541c59d3e49be479e520a",
            "36d00914104843548b64f2c2655f13b2",
            "4521c371c5284a79970152b12f61aaba",
            "e91b282b7bd9435194aa212348cdb311",
            "42349267c0e541c6851afb42f86d245e",
            "167066d89715415ea2d0ca470ae9ac9f",
            "f5c29c94e63a4feeba338c4d360d3b86"
          ]
        },
        "outputId": "d6e6e3b8-b0d6-485c-c907-d27591aadd35"
      },
      "source": [
        "classifier = pipeline(\"zero-shot-classification\")"
      ],
      "execution_count": 3,
      "outputs": [
        {
          "output_type": "display_data",
          "data": {
            "application/vnd.jupyter.widget-view+json": {
              "model_id": "f8cc1e33c1234b8bae6d87141b5c2217",
              "version_minor": 0,
              "version_major": 2
            },
            "text/plain": [
              "HBox(children=(FloatProgress(value=0.0, description='Downloading', max=908.0, style=ProgressStyle(description_…"
            ]
          },
          "metadata": {
            "tags": []
          }
        },
        {
          "output_type": "stream",
          "text": [
            "\n"
          ],
          "name": "stdout"
        },
        {
          "output_type": "display_data",
          "data": {
            "application/vnd.jupyter.widget-view+json": {
              "model_id": "857251c06235442999cbbdf738f1d67a",
              "version_minor": 0,
              "version_major": 2
            },
            "text/plain": [
              "HBox(children=(FloatProgress(value=0.0, description='Downloading', max=898823.0, style=ProgressStyle(descripti…"
            ]
          },
          "metadata": {
            "tags": []
          }
        },
        {
          "output_type": "stream",
          "text": [
            "\n"
          ],
          "name": "stdout"
        },
        {
          "output_type": "display_data",
          "data": {
            "application/vnd.jupyter.widget-view+json": {
              "model_id": "ee6fac28857d40f998cf599962216d9e",
              "version_minor": 0,
              "version_major": 2
            },
            "text/plain": [
              "HBox(children=(FloatProgress(value=0.0, description='Downloading', max=456318.0, style=ProgressStyle(descripti…"
            ]
          },
          "metadata": {
            "tags": []
          }
        },
        {
          "output_type": "stream",
          "text": [
            "\n"
          ],
          "name": "stdout"
        },
        {
          "output_type": "display_data",
          "data": {
            "application/vnd.jupyter.widget-view+json": {
              "model_id": "57f9c6425c114045a20dddcfd27b3e89",
              "version_minor": 0,
              "version_major": 2
            },
            "text/plain": [
              "HBox(children=(FloatProgress(value=0.0, description='Downloading', max=1629486723.0, style=ProgressStyle(descr…"
            ]
          },
          "metadata": {
            "tags": []
          }
        },
        {
          "output_type": "stream",
          "text": [
            "\n"
          ],
          "name": "stdout"
        },
        {
          "output_type": "stream",
          "text": [
            "Some weights of the model checkpoint at facebook/bart-large-mnli were not used when initializing BartForSequenceClassification: ['model.encoder.version', 'model.decoder.version']\n",
            "- This IS expected if you are initializing BartForSequenceClassification from the checkpoint of a model trained on another task or with another architecture (e.g. initializing a BertForSequenceClassification model from a BertForPretraining model).\n",
            "- This IS NOT expected if you are initializing BartForSequenceClassification from the checkpoint of a model that you expect to be exactly identical (initializing a BertForSequenceClassification model from a BertForSequenceClassification model).\n"
          ],
          "name": "stderr"
        }
      ]
    },
    {
      "cell_type": "markdown",
      "metadata": {
        "id": "xWiovVJG9ei_",
        "colab_type": "text"
      },
      "source": [
        "We can use this pipeline by passing in a sequence and a list of candidate labels. The pipeline assumes by default that only one of the candidate labels is true, returning a list of scores for each label which add up to 1."
      ]
    },
    {
      "cell_type": "code",
      "metadata": {
        "id": "pWg2jminz9u7",
        "colab_type": "code",
        "colab": {
          "base_uri": "https://localhost:8080/",
          "height": 1000
        },
        "outputId": "2ebbf9d9-83bd-40c8-ea76-9eb69d1f0ad7"
      },
      "source": [
        "import csv\n",
        "tsv_file = open(\"result.tsv\")\n",
        "read_tsv = csv.reader(tsv_file, delimiter=\"\\t\")\n",
        "\n",
        "labellist = []\n",
        "\n",
        "for i, row in enumerate(read_tsv):\n",
        "  if i == 0:\n",
        "    continue\n",
        "  s = row[0]\n",
        "  start = s.find('[') + 2\n",
        "  end = s.find(']', start) - 1\n",
        "  \n",
        "  if s[start:end] not in labellist:\n",
        "    labellist.append(s[start:end])\n",
        "\n",
        "  print(row)\n",
        "\n",
        "print(labellist)\n",
        "print(len(labellist))"
      ],
      "execution_count": 21,
      "outputs": [
        {
          "output_type": "stream",
          "text": [
            "[\"['Yard and Structure Concern']\", \"['Traffic Signs', 'Homeless Concerns', 'Parking - Enforcement']\", 'how do i report my building almost falling apart?']\n",
            "[\"['Yard and Structure Concern']\", \"['Abandoned Vehicle', 'Street Light', 'Parking - Enforcement']\", 'the empty house on my street is overgrown with weed please send someone to clean it up']\n",
            "[\"['Yard and Structure Concern']\", \"['Abandoned Vehicle', 'Pothole', 'Homeless Concerns']\", 'the yard of the house next door is completely overgrown with weeds please send someone to clean it up.']\n",
            "[\"['Yard and Structure Concern']\", \"['Animal Issues', 'Traffic Signals', 'Traffic Signs']\", 'there are a few buildings in our neighbourhood which are almost falling apart. these are a safety hazard, please do something about this.']\n",
            "[\"['Yard and Structure Concern']\", \"['Abandoned Vehicle', 'Traffic Signals', 'Illegal Dumping']\", 'how do i report overgrown weeds in our neighbourhood.']\n",
            "[\"['Yard and Structure Concern']\", \"['Animal Issues', 'Traffic Signals', 'Drainage Issues']\", 'where can i report dilapidated buildings.']\n",
            "[\"['Yard and Structure Concern']\", \"['Traffic Signals', 'Parking - Enforcement', 'Animal Issues']\", 'i want to report structurally unsafe buildings in our neighbourhood.']\n",
            "[\"['Yard and Structure Concern']\", \"['Abandoned Vehicle', 'Traffic Signals', 'Pothole']\", 'can you take care of the extremely overgrown building that has become a den for unsocial entities.']\n",
            "[\"['Yard and Structure Concern']\", \"['Street Light', 'Traffic Signals', 'Parking - Enforcement']\", 'there is a broken building in our vicinity its almost broken down and an extremely elderly couple living in there. please send someone to help out.']\n",
            "[\"['Yard and Structure Concern']\", \"['Traffic Signals', 'Street Light', 'Parking - Enforcement']\", 'there is a local abandoned building where which is extremely overgrown and it has become home to a lot of critters and snakes, please do something about this. its very dangerous.']\n",
            "[\"['Drainage Issues']\", \"['Traffic Signs', 'Graffiti', 'Animal Issues']\", 'there is sewer leak near my house, the whole place is reeking of sewage. please send someone to handle this issue.']\n",
            "[\"['Drainage Issues']\", \"['Parking - Enforcement', 'Abandoned Vehicle', 'Homeless Concerns']\", 'my house is flooded after the recent spell of heavy rain.']\n",
            "[\"['Drainage Issues']\", \"['Parking - Enforcement', 'Abandoned Vehicle', 'Graffiti']\", 'where do i report a broken sewage pipe.']\n",
            "[\"['Drainage Issues']\", \"['Animal Issues', 'Parking - Enforcement', 'Graffiti']\", \"my street is has been flooded these last few days after the sewage main burst, people are miserable here. it's reeking of sewage and we are forced to endure this. this is unacceptable the concerned authorities should take care of this immediately.\"]\n",
            "[\"['Drainage Issues']\", \"['Parking - Enforcement', 'Graffiti', 'Abandoned Vehicle']\", \"there is a large pool of water gathering in my backyard, i don't know where the water is coming from, its almost a little pond now. please send someone to remove the water and check the underlying cause.\"]\n",
            "[\"['Drainage Issues']\", \"['Abandoned Vehicle', 'Traffic Signs', 'Parking - Enforcement']\", 'the plumbing in my house has completely broken down, i have no tap water. please fix.']\n",
            "[\"['Drainage Issues']\", \"['Animal Issues', 'Parking - Enforcement', 'Graffiti']\", 'my basement is completely flooded with foul smelling water, i fear that the sewage main has burst. please send someone to have a look.']\n",
            "[\"['Drainage Issues']\", \"['Parking - Enforcement', 'Animal Issues', 'Graffiti']\", 'after the heavy rains last week three houses on our block has been completely flooded, no one is doing anything about it. we have been sloshing around in ankle deep water for three days now. someone needs to fix this!']\n",
            "[\"['Drainage Issues']\", \"['Graffiti', 'Animal Issues', 'Abandoned Vehicle']\", 'i have not been receiving any water for the last two days. my neighbours are doing fine and i have been getting water from them. i think there is some issue with my water main. please send someone to fix this.']\n",
            "[\"['Drainage Issues']\", \"['Traffic Signs', 'Traffic Signals', 'Homeless Concerns']\", \"i recently purchased a house one xxx avenue, but i have not been receiving water ever since i moved in last week. it was working fine when i came to inspect the house. i need some help here, i don't know anyone who can help since i am new to this area.\"]\n",
            "[\"['Noise Concern']\", \"['Sidewalk', 'Trees Issues', 'Pothole']\", 'my neighbors have been playing loud music for late into the night for months, now. they do not listen even after asking multiple times. please help.']\n",
            "[\"['Noise Concern']\", \"['Trees Issues', 'Abandoned Vehicle', 'Homeless Concerns']\", 'the person above me in my apartment has been using loud machinery (chainsaws, drills etc.) in his home all day and it is driving me crazy. he has not stopped it even after repeated requests. please sort it out, this has been going on for almost a week.']\n",
            "[\"['Noise Concern']\", \"['Parking - Enforcement', 'Sidewalk', 'Abandoned Vehicle']\", 'i have been having a dreadful experience with my neighbour. he has been playing music late into the night and i cannot sleep because of the loud music. complaining to them has not resulted in the situation getting any better. please send someone to help.']\n",
            "[\"['Noise Concern']\", \"['Parking - Enforcement', 'Abandoned Vehicle', 'Graffiti']\", 'i would like to report the extremely loud sounds that are coming into my home from the nearby construction site. they keep working all day and deep into the night with their heavy machinery and keep creating loud noises. i cannot sleep as a result and since i need to get up early for my morning this has been an extremely painful experience for me. please do something to help.']\n",
            "[\"['Noise Concern']\", \"['Pothole', 'Pests', 'Traffic Signs']\", 'a new couple has moved into the apartment above me and they have a habit of playing music late into the night. many tenants of the apartment have been complaining. please send someone to help.']\n",
            "[\"['Noise Concern']\", \"['Abandoned Vehicle', 'Homeless Concerns', 'Graffiti']\", \"i want to issue a noise complaint against my neighbour. he has turned his house into a makeshift workshop for carpentry. he uses his machinery all day long and i can't get any work done. we are all stuck at home during the quarantine and i think people should be more considerate of the neighbours.\"]\n",
            "[\"['Noise Concern']\", \"['Pothole', 'Trees Issues', 'Illegal Dumping']\", 'the people who are living above me have little kids who have been stuck inside during quarantine. i understand that they need to play but the parents allow them to jump around the house all day. extremely disturbing for the people living below, they should at least ask their children not to jump around the house.']\n",
            "[\"['Noise Concern']\", \"['Abandoned Vehicle', 'Parking - Enforcement', 'Pothole']\", 'my neighbours allow their kids to use their garage for band practice, this would be fine if they carried out their practice in the daylight. instead they have been practising at night when working people come home and need some rest. asking them to comply has had no effect please do something.']\n",
            "[\"['Noise Concern']\", \"['Sidewalk', 'Trees Issues', 'Illegal Dumping']\", 'my neighbour has a very loud motorcycle which he drives around the neighbourhood all day long. everyone is fed up of the loud noise from the motor bike. he does not listen to any of us. please take care of this.']\n",
            "[\"['Noise Concern']\", \"['Trees Issues', 'Pests', 'Traffic Signs']\", \"my apartment is near very busy street so there has been loud noises from vehicles even deep at night please set up a no honking zones near this apartment law. it's very difficult for us to carry on like this.\"]\n",
            "[\"['Pothole']\", \"['Yard and Structure Concern', 'Parking - Enforcement', 'Abandoned Vehicle']\", 'i would like to report a huge pothole that has appeared in front of the local public school. it poses a threat to public safety, please fix it.']\n",
            "[\"['Pothole']\", \"['Abandoned Vehicle', 'Parking - Enforcement', 'Yard and Structure Concern']\", 'huge potholes at local intersection.']\n",
            "[\"['Pothole']\", \"['Parking - Enforcement', 'Yard and Structure Concern', 'Nuisance On Property']\", 'the roads near local hospital are riddles with potholes, people are likely to get into an accident while coming into the hospital please fix it.']\n",
            "[\"['Pothole']\", \"['Parking - Enforcement', 'Yard and Structure Concern', 'Nuisance On Property']\", 'the area near the local playground is riddled with potholes, please fix them.']\n",
            "[\"['Pothole']\", \"['Yard and Structure Concern', 'Nuisance On Property', 'Pests']\", 'the intersection of clive ave. and randolph st. has a huge pothole, i have seen cars blowing out their hubcaps there. someone needs to fix it.']\n",
            "[\"['Pothole']\", \"['Abandoned Vehicle', 'Parking - Enforcement', 'Noise Concern']\", \"large potholes have appeared in the shopping district after the recent spell of heavy rains. it's difficult to drive there now and the situation needs to be fixed as soon as possible.\"]\n",
            "[\"['Pothole']\", \"['Illegal Dumping', 'Animal Issues', 'Traffic Signals']\", 'there are many large potholes in front of my house that have been there for a long time, more than a couple of months. i thought that the municipality will take care of it, but no one seems to be bothered. please do something about this.']\n",
            "[\"['Pothole']\", \"['Parking - Enforcement', 'Nuisance On Property', 'Abandoned Vehicle']\", 'i want to report a large pothole near the cliffside, it has almost eaten away half the road. if someone is not careful while driving there at night they might literally fall of the cliff because of it. please fix it as soon as possible, i think it opened up right after the recent flash flood.']\n",
            "[\"['Pothole']\", \"['Parking - Enforcement', 'Yard and Structure Concern', 'Abandoned Vehicle']\", \"the bridge over the local river is full of potholes, i don't think its very safe. someone should fix it.\"]\n",
            "[\"['Pothole']\", \"['Abandoned Vehicle', 'Yard and Structure Concern', 'Illegal Dumping']\", 'the streets in the downtown area is full of potholes, this is making traffic slow and daily commuters are having to be stuck in traffic jams for hours on end. i think it would be a good idea to fix them as soon as possible.']\n",
            "[\"['Traffic Signs']\", \"['Graffiti', 'Animal Issues', 'Abandoned Vehicle']\", 'the traffic signal at the intersection in front of the local supermarket is having timing issues, please check it out.']\n",
            "[\"['Traffic Signs']\", \"['Noise Concern', 'Pests', 'Nuisance On Property']\", 'most of the crosswalks in the city are not marked properly or have faded, please repaint them.']\n",
            "[\"['Traffic Signs']\", \"['Abandoned Vehicle', 'Illegal Dumping', 'Pests']\", 'the traffic sign near the hospital which notified people that it was a no honking zone was knocked out in the recent storm. please replace it.']\n",
            "[\"['Traffic Signs']\", \"['Nuisance On Property', 'Animal Issues', 'Illegal Dumping']\", 'all the arrows which were helpful for people taking the roundabout near the public school have become worn out. this leads to traffic problems almost everday when people come to drop off or pick up their wards. please repaint them.']\n",
            "[\"['Traffic Signs']\", \"['Pests', 'Yard and Structure Concern', 'Nuisance On Property']\", 'biking lanes are not properly marked in this city. its dangerous for cyclists to be riding on the main road. please paint them.']\n",
            "[\"['Traffic Signs']\", \"['Pests', 'Pothole', 'Abandoned Vehicle']\", 'all the signs which marked the designated speeds along the shopping district have been destroyed in the riots. these need to be replaced.']\n",
            "[\"['Traffic Signs']\", \"['Pests', 'Noise Concern', 'Yard and Structure Concern']\", 'the sign in front of the broken bridge which warned drivers has been stolen, it needs to be replaced asap.']\n",
            "[\"['Traffic Signs']\", \"['Pests', 'Abandoned Vehicle', 'Homeless Concerns']\", 'i feel that a traffic sign should be put up after the recent case of landslide near the cliffside warning commuters, so that they might remain vigilant.']\n",
            "[\"['Traffic Signs']\", \"['Traffic Signals', 'Abandoned Vehicle', 'Homeless Concerns']\", 'deer often run across the road connecting the edge of ring road to the interstate, placing a warning sign there might be a good idea. i have been seeing too much roadkill recently.']\n",
            "[\"['Traffic Signs']\", \"['Pests', 'Noise Concern', 'Drainage Issues']\", 'the decripit shopping mall should definitely have a sign telling people to stay away. it is sheduled for demolition soon, i do not want homeless people to start living there only to be the victims of an accident.']\n",
            "[\"['Trees Issues']\", \"['Graffiti', 'Noise Concern', 'Homeless Concerns']\", 'fallen tree on the road in front of my house after recent storm. cannot take my car out, please clear it.']\n",
            "[\"['Trees Issues']\", \"['Noise Concern', 'Street Light', 'Abandoned Vehicle']\", 'where do i get permission to plant trees in public spaces?']\n",
            "[\"['Trees Issues']\", \"['Graffiti', 'Parking - Enforcement', 'Homeless Concerns']\", \"i would like to request the removal of a huge tree trunk that was knock over by the storm yesterday. its right by the entrance to the cul-de-sac in my neighborhood, you can't miss it.\"]\n",
            "[\"['Trees Issues']\", \"['Homeless Concerns', 'Pothole', 'Parking - Enforcement']\", \"can you guys take care of the dead tree that has been standing in my backyard for a couple of years now. i don't know if its legal to remove it myself.\"]\n",
            "[\"['Trees Issues']\", \"['Noise Concern', 'Graffiti', 'Homeless Concerns']\", 'a massive oak tree has been sending out branches which are almost clipping the electric mains. please send someone to trim it before some kind of catastrophe happens.']\n",
            "[\"['Trees Issues']\", \"['Pothole', 'Street Light', 'Abandoned Vehicle']\", 'how do i obtain permission to plant trees in public spaces. its unused but i am not sure if i am allowed to do that.']\n",
            "[\"['Trees Issues']\", \"['Parking - Enforcement', 'Abandoned Vehicle', 'Graffiti']\", 'there is a tree growing in the pipe which is meant to carry stormwater from the roof of the school building. it needs to be removed.']\n",
            "[\"['Trees Issues']\", \"['Graffiti', 'Homeless Concerns', 'Noise Concern']\", 'i want to request the removal of a dead tree that has been standing on the school premises.']\n",
            "[\"['Trees Issues']\", \"['Graffiti', 'Noise Concern', 'Parking - Enforcement']\", 'a huge tree trunk fell over on the railway track after the storm yesterday. please remove it asap.']\n",
            "[\"['Trees Issues']\", \"['Parking - Enforcement', 'Graffiti', 'Abandoned Vehicle']\", 'last night a large tree branch fell over and knocked out the power mains. please do something about this.']\n",
            "[\"['Street Light']\", \"['Homeless Concerns', 'Nuisance On Property', 'Drainage Issues']\", 'the streetlights on my street are busted, please repair.']\n",
            "[\"['Street Light']\", \"['Yard and Structure Concern', 'Nuisance On Property', 'Noise Concern']\", 'many of the street lights in this town do not work properly, it’s extremely dark at night and people are feeling unsafe.']\n",
            "[\"['Street Light']\", \"['Traffic Signs', 'Parking - Enforcement', 'Drainage Issues']\", 'can you install some street lights along the mountainside road, its very dark at night around there are a lot of animals which jump onto the road. this is just an accident waiting to happen.']\n",
            "[\"['Street Light']\", \"['Homeless Concerns', 'Illegal Construction', 'Traffic Signs']\", 'someone smashed the street light near our house yesterday. please fix it.']\n",
            "[\"['Street Light']\", \"['Graffiti', 'Yard and Structure Concern', 'Nuisance On Property']\", 'the entire row of street lights along pine drive has not been working for two days now. it is a pretty busy area, these lights need to be fixed.']\n",
            "[\"['Street Light']\", \"['Homeless Concerns', 'Traffic Signs', 'Nuisance On Property']\", 'some of the recently installed led street lights have been out for a few days now. please fix them.']\n",
            "[\"['Street Light']\", \"['Yard and Structure Concern', 'Nuisance On Property', 'Noise Concern']\", 'most of the street lights along the long road connecting central avenue to city complex have been out. there are a lot of corners along the road and animals frequently jump onto the tarmac. you need to fix them or prepare to have an accident on your hands soon.']\n",
            "[\"['Street Light']\", \"['Homeless Concerns', 'Nuisance On Property', 'Parking - Enforcement']\", 'the fancy old streetlights have not been working properly again and need to be repaired. i think its time that our city installs newer and better performing street lights and not stick to tradition. this is only a pointless waste of taxpayer money.']\n",
            "[\"['Street Light']\", \"['Nuisance On Property', 'Homeless Concerns', 'Noise Concern']\", 'the base of a streetlight was damaged in a the car accident yesterday. i am attaching a picture. please fix it when you can.']\n",
            "[\"['Street Light']\", \"['Nuisance On Property', 'Noise Concern', 'Pests']\", 'how do i report a broken streetlight to the municipality?']\n",
            "[\"['Animal Issues']\", \"['Traffic Signals', 'Drainage Issues', 'Pests']\", 'i would like to report a missing dog. named laika, breed golden retriever and last seen at the local park.']\n",
            "[\"['Animal Issues']\", \"['Traffic Signals', 'Graffiti', 'Drainage Issues']\", 'i want to report a stray dog that has been frequenting our neighbourhood. it might be rabid and bite someone. please take care of it.']\n",
            "[\"['Animal Issues']\", \"['Traffic Signs', 'Parking - Enforcement', 'Traffic Signals']\", 'rodent infestation in my house. need someone to come and exterminate them.']\n",
            "[\"['Animal Issues']\", \"['Traffic Signals', 'Drainage Issues', 'Homeless Concerns']\", \"i want to report a missing calico cat. i don't know when she slipped out of the house. she was well trained, she must still be in the neighborhood. please try to find her.\"]\n",
            "[\"['Animal Issues']\", \"['Traffic Signals', 'Drainage Issues', 'Noise Concern']\", 'where is the nearest animal shelter. i want to adopt a pet.']\n",
            "[\"['Animal Issues']\", \"['Trees Issues', 'Animal Issues', 'Traffic Signs']\", 'racoons have been coming and upsetting my garbage bin every night. i need some solution to this. everyone here is fed up with them. please do something to relocate them.']\n",
            "[\"['Animal Issues']\", \"['Abandoned Vehicle', 'Parking - Enforcement', 'Illegal Dumping']\", \"i want to report a snake infestation in my basement, it's like a scene from a horror movie. please send someone who is experienced in dealing with snakes.\"]\n",
            "[\"['Animal Issues']\", \"['Pests', 'Traffic Signals', 'Drainage Issues']\", 'a large parrot has been coming to my bedroom window every morning and causing a hell of a row. i need someone to take care of it, relocate it. please help, i work all night and need a little sleep in the morning.']\n",
            "[\"['Animal Issues']\", \"['Traffic Signals', 'Drainage Issues', 'Parking - Enforcement']\", 'i found an armadillo in my backyard yesterday. and its not leaving. i know its an endangered species. can someone come and take care of it. i want it to have a good home and be happy.']\n",
            "[\"['Animal Issues']\", \"['Nuisance On Property', 'Parking - Enforcement', 'Graffiti']\", 'where can i get the contact number of the nearest veteranarian?']\n",
            "[\"['Illegal Dumping']\", \"['Traffic Signs', 'Pests', 'Pothole']\", 'some one has dumped a lot of useless/broken furniture in the nearby park. this is unacceptable, children play there. the whole place looks so ugly, please clean it up.']\n",
            "[\"['Illegal Dumping']\", \"['Traffic Signals', 'Traffic Signs', 'Abandoned Vehicle']\", 'there has been no garbage collection in my neighbourhood for a week, the whole is reeking of garbage and we have no means to dispose of them. please help us out.']\n",
            "[\"['Illegal Dumping']\", \"['Pothole', 'Traffic Signs', 'Noise Concern']\", 'there is a bunch of garbage that has been dumped on my front yard, please send someone to take care of it.']\n",
            "[\"['Illegal Dumping']\", \"['Pests', 'Homeless Concerns', 'Graffiti']\", 'i want to report the local dumpter being overturned after the storm last night. its a mess and the whole alley has begun to stink of garbage.']\n",
            "[\"['Illegal Dumping']\", \"['Traffic Signals', 'Homeless Concerns', 'Drainage Issues']\", 'where do i report an incident of an animal destroying the garbage bin. the racoons keep breaking into it no matter what i do.']\n",
            "[\"['Illegal Dumping']\", \"['Traffic Signs', 'Animal Issues', 'Pothole']\", 'the garbage collector has not been around our part of the town for a few days. everyone is displeased with the growing amount of trash that has been accumulating. please send some one quickly to clean up.']\n",
            "[\"['Illegal Dumping']\", \"['Abandoned Vehicle', 'Traffic Signs', 'Pothole']\", 'some neighbors have been leaving broken electronic appliances in the in the yard by the shopping mall. electronic waste is dangerous to be left lying around. please do something about this.']\n",
            "[\"['Illegal Dumping']\", \"['Traffic Signs', 'Noise Concern', 'Pests']\", \"the town sponge iron factory has been dumping their waste into a pond nearby. they aren't even their waste properly. please look into this.\"]\n",
            "[\"['Illegal Dumping']\", \"['Pests', 'Traffic Signs', 'Animal Issues']\", 'the local recreational park has a section of the river running through it. they do not have garbage bins and as a result people going to the park have been throwing waste into the water. the river is getting clogged with all the garbage. please do something about this.']\n",
            "[\"['Illegal Dumping']\", \"['Traffic Signs', 'Homeless Concerns', 'Parking - Enforcement']\", 'i have notices a buildup of waste sitting right by the parking lot behind the hospital. i cannot imagine how dangerous it would be if these were biomedical waste.']\n",
            "[\"['Parking - Enforcement']\", \"['Pests', 'Drainage Issues', 'Pothole']\", 'there is an illegally  parked car right in front of my driveway, and i cannot take my car out for my work. please help.']\n",
            "[\"['Parking - Enforcement']\", \"['Trees Issues', 'Drainage Issues', 'Traffic Signals']\", 'how do i pay my parking fines.']\n",
            "[\"['Parking - Enforcement']\", \"['Nuisance On Property', 'Drainage Issues', 'Pests']\", \"people have been parking in my driveway because of the family reunion that my neighbor has been holding for a week. it's completely ridiculous please send someone to remove these cars from my premises.\"]\n",
            "[\"['Parking - Enforcement']\", \"['Drainage Issues', 'Health Issues', 'Pests']\", 'i have recently moved to this city and want to have an idea about the parking spots around town. is there any way this app can help me?']\n",
            "[\"['Parking - Enforcement']\", \"['Pothole', 'Traffic Signs', 'Pests']\", 'after returning from my work today i saw a car parked in front of my driveway. it has been 4 hours and no one has come to move it. i cannot get into my own garage please send help as quickly as possible.']\n",
            "[\"['Parking - Enforcement']\", \"['Drainage Issues', 'Pests', 'Trees Issues']\", \"there have been reports of cars parked in front of the school premises even though there are explicit signs warning people not to park there. please do something to enforce that people don't park in front of the school. we have a parking space in the back. they are free to use it.\"]\n",
            "[\"['Parking - Enforcement']\", \"['Nuisance On Property', 'Pests', 'Drainage Issues']\", 'after the recent rise in coronavirus cases we have been running out of parking spaces for patients. can we extend our parking are to cover the nearby abandoned meadow, no one uses it currently and it would be a huge help for people to be able to park their cars while their near and dear ones are sufferring.']\n",
            "[\"['Parking - Enforcement']\", \"['Health Issues', 'Animal Issues', 'Drainage Issues']\", 'can you pay a parking fine online?']\n",
            "[\"['Parking - Enforcement']\", \"['Pests', 'Traffic Signals', 'Street Light']\", 'we have started construction for the school parking lot but we want it to be available to anyone who needs it. is there any way we could open it to the general public.']\n",
            "[\"['Parking - Enforcement']\", \"['Illegal Construction', 'Pests', 'Drainage Issues']\", 'what are the parking rates around the city?']\n",
            "[\"['Nuisance On Property']\", \"['Sidewalk', 'Pothole', 'Parking - Enforcement']\", 'i want to report some local kids hanging out, listening to loud music and smoking in my backyard. i have asked them to leave but they keep coming back. please help.']\n",
            "[\"['Nuisance On Property']\", \"['Traffic Signs', 'Street Light', 'Traffic Signals']\", 'a local homeless man has been defecating in my yard for a week now. this is extremely upsetting. please help.']\n",
            "[\"['Nuisance On Property']\", \"['Pothole', 'Traffic Signals', 'Abandoned Vehicle']\", \"i want to report that some people have been using my yard to hang out without permission and this would have been okay if i didn't find syringes in my yard today. i do not want my home to become a place for people shooting up hard drugs.\"]\n",
            "[\"['Nuisance On Property']\", \"['Trees Issues', 'Abandoned Vehicle', 'Pothole']\", \"i want to report some people who have been regularly harassing me at my home for practising my drums. i don't know what to do, i am a drummer by profession and i need to practice my work. i try to be respectful of others and only practice within acceptable hours, but i get home late after school, but even so i never go past 11 pm. many of the neighbors have been harassing me. i am just a student and i can't afford noiseproofing equipment yet. i need someone to help please. if i stop practicing i'll be losing the only thing in my life i am passionate about.\"]\n",
            "[\"['Nuisance On Property']\", \"['Pests', 'Graffiti', 'Nuisance On Property']\", 'i would like to report a break in. only my fire emergency window is broken and i have lost around $500 in cash and also my priceless violin was taken. please help.']\n",
            "[\"['Nuisance On Property']\", \"['Abandoned Vehicle', 'Parking - Enforcement', 'Traffic Signs']\", 'i have been cultivating a herb farm in my backyard recently. but after coming home from work i saw that the entire nursery was trampled on and the plants destroyed. please help apprehend the perpetrators or atleast work to assure that future incidents will not happen.']\n",
            "[\"['Nuisance On Property']\", \"['Abandoned Vehicle', 'Animal Issues', 'Pothole']\", 'i am currently holding a house party and we have apprehended a group of people who none of the invited members know and look shady. none of us know where they came from and i cannot imagine they were up to any good. please send someone to check them out and remove them from the premises.']\n",
            "[\"['Nuisance On Property']\", \"['Animal Issues', 'Parking - Enforcement', 'Nuisance On Property']\", \"i don't to what to do about a very perplexing situation that i have unfortunately ended up in. someone has reportedly been breaking into my letterbox. i don't know why anyone would want to do it, i usually don't receive anything valuable in my mail. and even if i did none of my mail was actually taken. only i find all my letters opened. i know that the postman is not doing it, i have thoroughly checked with the post office. please do something to solve my problem, i do not appreciate my mail being read by some unknown entity.\"]\n",
            "[\"['Nuisance On Property']\", \"['Traffic Signals', 'Abandoned Vehicle', 'Parking - Enforcement']\", 'i want to report a moose that has been breaking into my backyard to eat the leaves off my plants every morning. there is nothing i can do to shoo him off. please help me.']\n",
            "[\"['Nuisance On Property']\", \"['Traffic Signals', 'Homeless Concerns', 'Abandoned Vehicle']\", \"i would like to report a fox that has been getting into my house. i have often found him in the basement, sleeping the laundry. i need someone to remove it. i can't have a wild animal coming into my house everyday. heaven knows what kind of diseases it might bring.\"]\n",
            "[\"['Traffic Signals']\", \"['Graffiti', 'Animal Issues', 'Pests']\", 'the timing of the traffic signals at the nearest intersection is way off, it’s just a matter of time before there is an accident. please check it out.']\n",
            "[\"['Traffic Signals']\", \"['Graffiti', 'Nuisance On Property', 'Illegal Dumping']\", 'most of the traffic lights in downtown were knocked out during the recent storm. driving is a nightmare now, please help.']\n",
            "[\"['Traffic Signals']\", \"['Graffiti', 'Animal Issues', 'Pests']\", 'many of the traffic signals all over the town need to be rewired, the timing on them is extremely horrible and might cause an accident any day.']\n",
            "[\"['Traffic Signals']\", \"['Graffiti', 'Animal Issues', 'Abandoned Vehicle']\", 'the signal lights at the train intersection have not been working properly, an accident might occur anyday if a person is not present to guide the traffic there. please fix them.']\n",
            "[\"['Traffic Signals']\", \"['Graffiti', 'Animal Issues', 'Abandoned Vehicle']\", \"i do not understand how the traffic signals at the roundabout near the hospital work. it's as if these signals have been put there to cause an accident. please fix the signals and signs there, nothing makes sense and i don't know how people have avoided major accidents there.\"]\n",
            "[\"['Traffic Signals']\", \"['Graffiti', 'Animal Issues', 'Pests']\", 'broken pedestrian traffic light at the hospital crossing, please fix it as soon as possible. pedestrian lights malfunctioning is a serious hazard and needs to be fixed as soon as possible to avoid casualties.']\n",
            "[\"['Traffic Signals']\", \"['Graffiti', 'Nuisance On Property', 'Illegal Dumping']\", 'the traffic lights near the interstate intersection was knocked down in the recent accident. it has not worked properly ever since its replacement last november. please send someone to fix it.']\n",
            "[\"['Traffic Signals']\", \"['Graffiti', 'Animal Issues', 'Abandoned Vehicle']\", 'i want to ask you guys to fix the traffic signal near at the 5 point turn in downtown, its extremely confusing as it is and the traffic signals do not help in the least. it only makes the whole situation worse. without a cop posted there always there will certainly be accidents. please fix the timing and the lights, one or both of which do not work in the many traffic signals that are there.']\n",
            "[\"['Traffic Signals']\", \"['Animal Issues', 'Graffiti', 'Pests']\", 'the traffic signal at the brige has been malfunctioning, it keeps showing green even when the bridge is opening up to let the ships through. please fix it.']\n",
            "[\"['Traffic Signals']\", \"['Graffiti', 'Animal Issues', 'Abandoned Vehicle']\", \"i want to report a case of traffic signal malfuntioning at the railway crossing. even the barrier is not working properly and stays open when trains are passing. please fix this as soon as possible, it's an accident waiting to happen.\"]\n",
            "[\"['Sidewalk']\", \"['Homeless Concerns', 'Pests', 'Illegal Dumping']\", 'no one has repaired the sidewalk in on my street after the recent unfortunate accident, please repair it.']\n",
            "[\"['Sidewalk']\", \"['Pests', 'Animal Issues', 'Homeless Concerns']\", 'our city has not been repairing sidewalks as often as it should, most of these are either broken or have been encroached on. pedestrians have to walk on the asphalt and its dangerous due to the high volume of traffic here. please do something about this.']\n",
            "[\"['Sidewalk']\", \"['Homeless Concerns', 'Noise Concern', 'Pests']\", 'many of the sidewalks in the city were damaged or broken after the earthquake last year. although the city has repaired most of the public structures and institutions, they have not had time to repair the sidewalks which are an integral part of the city. i hope you will fix them in due time.']\n",
            "[\"['Sidewalk']\", \"['Noise Concern', 'Pests', 'Traffic Signs']\", 'the sidewalks in downtown are littered with trash nowadays. it looks so disgusting, please clean it up. the whole atmosphere of the city is suffering because of this.']\n",
            "[\"['Sidewalk']\", \"['Noise Concern', 'Pests', 'Nuisance On Property']\", 'the tiling on the sidewalk near the beach have been destroyed after the recent flood. please fix it.']\n",
            "[\"['Sidewalk']\", \"['Noise Concern', 'Pests', 'Trees Issues']\", \"there is a very noticeable lack of pedestrian walkways in the area surrounding the children's park. please construct them if possible.\"]\n",
            "[\"['Sidewalk']\", \"['Homeless Concerns', 'Noise Concern', 'Pests']\", 'i curb of the sidewalk in front of the financial district has been heavily damaged. it needs repair.']\n",
            "[\"['Sidewalk']\", \"['Traffic Signs', 'Noise Concern', 'Pothole']\", 'a lot of garbage has been left on the sidewalks near the park recently. please clean them.']\n",
            "[\"['Sidewalk']\", \"['Noise Concern', 'Animal Issues', 'Drainage Issues']\", 'a homeless encampment has been growing on the sidewalks near the shopping mall in downtown. please do something to help these people.']\n",
            "[\"['Sidewalk']\", \"['Pothole', 'Abandoned Vehicle', 'Parking - Enforcement']\", 'a lot of snow has accumulated on the sidewalks after the snowstorm last week. please clean them up as soon as possible.']\n",
            "[\"['Abandoned Vehicle']\", \"['Graffiti', 'Traffic Signals', 'Drainage Issues']\", 'a suspicious vehicle has been sitting near the neighbourhood playground for about two weeks now. no one has claimed it or moved it during this time. please look into this.']\n",
            "[\"['Abandoned Vehicle']\", \"['Pothole', 'Pests', 'Trees Issues']\", 'a black toyota has been collecting dust in the parking lot under the bridge for almost a year now, it is high time someone collected it. i am pretty sure it has been abandoned.']\n",
            "[\"['Abandoned Vehicle']\", \"['Traffic Signals', 'Health Issues', 'Drainage Issues']\", 'how do i report unclaimed vehicles in my parking lot.']\n",
            "[\"['Abandoned Vehicle']\", \"['Traffic Signs', 'Drainage Issues', 'Traffic Signals']\", 'i want to report a white van with tinted windows that has been sitting in front of the school building for a few days. i has not been claimed or moved. please look into this matter, it might be dangerous.']\n",
            "[\"['Abandoned Vehicle']\", \"['Drainage Issues', 'Illegal Construction', 'Pests']\", 'a green lexus has been sitting near the entrance to the airport for a few days. its front registration plate is missing. i am surprised it has not been towed, that is a no parking zone.']\n",
            "[\"['Abandoned Vehicle']\", \"['Sidewalk', 'Traffic Signals', 'Illegal Construction']\", 'how long can i let a vehicle sit in a parking lot before it is towed.']\n",
            "[\"['Abandoned Vehicle']\", \"['Pests', 'Trees Issues', 'Pothole']\", 'this morning a janitor found an abandoned car in the school football ground, apparantly someone had crashed the fence and drove into the ground at night, its door was open. someone needs to look into this']\n",
            "[\"['Abandoned Vehicle']\", \"['Traffic Signals', 'Illegal Construction', 'Drainage Issues']\", 'someone has left a mustang which is missing a door in the hospital parking lot. i have no idea who or when. i just saw it sitting there this morning. please look at it.']\n",
            "[\"['Abandoned Vehicle']\", \"['Drainage Issues', 'Graffiti', 'Pests']\", 'i want to reporta totalled prius that has been left crashed into the side of the wall near the school.']\n",
            "[\"['Abandoned Vehicle']\", \"['Pests', 'Graffiti', 'Health Issues']\", 'i want to report a broken down car that i had to abandoned near the interstate intersection, please tow it as soon as possible.']\n",
            "[\"['Illegal Construction']\", \"['Pests', 'Abandoned Vehicle', 'Traffic Signals']\", 'i need information on the construction that is being carried out at the nearby playground, i do not think they have the necessary permits and they are destroying the place where little kids play.']\n",
            "[\"['Illegal Construction']\", \"['Park Maintenance', 'Pests', 'Sidewalk']\", 'i would like to report suspicious construction activity on the sidewalk near the intersection.']\n",
            "[\"['Illegal Construction']\", \"['Pests', 'Yard and Structure Concern', 'Abandoned Vehicle']\", 'how do i report a shady construction endeavor that has been going on near the school playground.']\n",
            "[\"['Illegal Construction']\", \"['Graffiti', 'Street Light', 'Parking - Enforcement']\", 'i saw some people last month roughing up the small resturant owner near my home. and some people came today to demolish his joint. i think something illegal might be going on here. i hope someone will investigate.']\n",
            "[\"['Illegal Construction']\", \"['Traffic Signals', 'Pests', 'Parking - Enforcement']\", \"i want to report a shop that is being built directly on the opposite foot of the hospital, i don't think anyone has permission to build there since it is government property.\"]\n",
            "[\"['Illegal Construction']\", \"['Parking - Enforcement', 'Sidewalk', 'Traffic Signs']\", \"someone has been digging up the soil on the plot of land i bought at xxx, i currently don't intend to use it but stealing the earth from my plot is certainly illegal. please send someone to investigate.\"]\n",
            "[\"['Illegal Construction']\", \"['Pests', 'Traffic Signals', 'Street Light']\", 'where do i get construction permits in this city?']\n",
            "[\"['Illegal Construction']\", \"['Abandoned Vehicle', 'Traffic Signals', 'Pests']\", 'i want to build an ice cream shop on the corner of 4th street, how do i obtain the necessary permissions.']\n",
            "[\"['Illegal Construction']\", \"['Abandoned Vehicle', 'Homeless Concerns', 'Traffic Signs']\", 'are there any laws against building a small shrine/temple near the playground?']\n",
            "[\"['Illegal Construction']\", \"['Pests', 'Abandoned Vehicle', 'Traffic Signs']\", 'i want to extend my garage into a shop, it this legal? do i need to get any special permission?']\n",
            "[\"['Homeless Concerns']\", \"['Noise Concern', 'Animal Issues', 'Traffic Signals']\", 'is there a homeless shelter near in the city. how do i volunteer to help there?']\n",
            "[\"['Homeless Concerns']\", \"['Noise Concern', 'Pothole', 'Parking - Enforcement']\", 'there are a lot of homeless people that have been gathering under the bridge, winter is coming and they might die in the snow. please make some plans to move them to a homeless shelter.']\n",
            "[\"['Homeless Concerns']\", \"['Noise Concern', 'Drainage Issues', 'Nuisance On Property']\", 'what criteria in regards to income does one need to meet to apply for a homeless shelter?']\n",
            "[\"['Homeless Concerns']\", \"['Graffiti', 'Pothole', 'Parking - Enforcement']\", \"i have a friend who recently checked into one of the city's homeless shelter, i would like to offer him some work, would he still qualify to live in the shelter while he is looking for a house? or does he need to vacate as soon as a job is offered to him?\"]\n",
            "[\"['Homeless Concerns']\", \"['Pothole', 'Animal Issues', 'Noise Concern']\", \"i want to raise funds to the city's homeless people. what kind of permissions would i need and who do i talk to get started?\"]\n",
            "[\"['Homeless Concerns']\", \"['Trees Issues', 'Pothole', 'Traffic Signals']\", 'what is the percentage of population that is homeless in this city?']\n",
            "[\"['Homeless Concerns']\", \"['Street Light', 'Animal Issues', 'Traffic Signals']\", 'i want to start tutorial classes in my garage for the homeless people in my neighborhood, do i need to get some kind of permission for that? if yes can your give me someone to contact?']\n",
            "[\"['Homeless Concerns']\", \"['Animal Issues', 'Noise Concern', 'Parking - Enforcement']\", 'a few people have been gathering just behind my fence, they have been building a makeshift shelter as winter draws near. is there anyway i can help them create a more permanent shelter? or do i need to report them to one of the city homeless shelter, i do not think they will survive with the stuff that they are making.']\n",
            "[\"['Homeless Concerns']\", \"['Noise Concern', 'Animal Issues', 'Yard and Structure Concern']\", \"a few homeless people have been encamping on my property and i want the city to take care of these people. i don't want these people on my property send someone to take them to a homeless shelter please.\"]\n",
            "[\"['Homeless Concerns']\", \"['Animal Issues', 'Traffic Signs', 'Drainage Issues']\", \"how do i report harassment by homeless people? my son has been harassed by them on his way from school on multiple occasions, they haven't mugged him yet but i worry that it's not too far down the line.\"]\n",
            "[\"['Graffiti']\", \"['Traffic Signals', 'Homeless Concerns', 'Parking - Enforcement']\", 'i want to report graffiti on the local library. the art is tasteless and is an eyesore. please clean it up.']\n",
            "[\"['Graffiti']\", \"['Traffic Signals', 'Health Issues', 'Animal Issues']\", 'someone has used my car for graffiti practice, can i report this under vandalism?']\n",
            "[\"['Graffiti']\", \"['Traffic Signals', 'Noise Concern', 'Animal Issues']\", 'the whole back side of the hospital has become a canvas for vulgar \"art\" that no one is doing anything about. someone needs to clean up that filth.']\n",
            "[\"['Graffiti']\", \"['Traffic Signals', 'Homeless Concerns', 'Animal Issues']\", 'i want to provide the side of my garage wall as a canvas for graffiti, but i fear that some neighbors might take issue with it? am i needed to go through some legal process before i can offer up my wall for graffiti?']\n",
            "[\"['Graffiti']\", \"['Traffic Signals', 'Animal Issues', 'Homeless Concerns']\", 'can i use the walls of my own apartment building for graffiti? will the city let it stay? i have already obtained permission from all of the tenants.']\n",
            "[\"['Graffiti']\", \"['Trees Issues', 'Pothole', 'Traffic Signs']\", 'the carriages that are parked in the yard have been repeatedly vandalised, someone needs to do something about the perpetrators. i have been paying people each week to clean up this useless paint.']\n",
            "[\"['Graffiti']\", \"['Traffic Signals', 'Animal Issues', 'Parking - Enforcement']\", \"some people have put graffiti on the front wall of my house. i don't know who did this but i need someone to come clean it up.\"]\n",
            "[\"['Graffiti']\", \"['Traffic Signals', 'Health Issues', 'Animal Issues']\", 'where in the city can someone legally put up graffiti?']\n",
            "[\"['Graffiti']\", \"['Traffic Signals', 'Homeless Concerns', 'Animal Issues']\", 'what are the damages one has to pay for putting up graffiti in an illegal place?']\n",
            "[\"['Graffiti']\", \"['Traffic Signals', 'Pothole', 'Drainage Issues']\", 'i want to report vandalism in the local train yard, i have been seeing a group of young people gathering there and colouring the coaches. please do something about this.']\n",
            "[\"['Health Issues']\", \"['Yard and Structure Concern', 'Sidewalk', 'Illegal Dumping']\", 'is the nearest hospital carrying out covid testing. what is the cost of testing?']\n",
            "[\"['Health Issues']\", \"['Traffic Signs', 'Nuisance On Property', 'Traffic Signals']\", 'where do i get a flu shot?']\n",
            "[\"['Health Issues']\", \"['Graffiti', 'Illegal Construction', 'Animal Issues']\", 'when is the next pulse polio vaccination date?']\n",
            "[\"['Health Issues']\", \"['Traffic Signs', 'Pothole', 'Pests']\", 'is there any blood donation camp happening soon?']\n",
            "[\"['Health Issues']\", \"['Animal Issues', 'Yard and Structure Concern', 'Parking - Enforcement']\", 'where is the nearest malaria clinic or dengue detection center?']\n",
            "[\"['Health Issues']\", \"['Pests', 'Nuisance On Property', 'Noise Concern']\", 'what is the cost of applying for birth or death certificate?']\n",
            "[\"['Health Issues']\", \"['Graffiti', 'Nuisance On Property', 'Pothole']\", 'what is the number to call for ambulance service?']\n",
            "[\"['Health Issues']\", \"['Traffic Signs', 'Animal Issues', 'Pothole']\", \"the local fertilizer plant has been dumping chemicals into the river, i don't know if they process their waste but the water plant for the city is downstream and i am sure they are not allowed to do this.\"]\n",
            "[\"['Health Issues']\", \"['Traffic Signs', 'Nuisance On Property', 'Parking - Enforcement']\", 'the city general hospital has been disposing their waste in the area just behind forest cover, i came across it while hiking. this needs to be stopped as it is extremely dangerous to leave bio-waste laying around.']\n",
            "[\"['Health Issues']\", \"['Abandoned Vehicle', 'Animal Issues', 'Trees Issues']\", 'what is the average cost of a general health check up in this city?']\n",
            "[\"['Park Maintenance']\", \"['Traffic Signs', 'Pests', 'Pothole']\", 'the benches in the nearby park have fallen into disrepair, they are broken and hardly usable anymore, can you please fix them.']\n",
            "[\"['Park Maintenance']\", \"['Traffic Signs', 'Pothole', 'Drainage Issues']\", 'the jungle gym at the playground has been vandalised by some delinquents, please repair it.']\n",
            "[\"['Park Maintenance']\", \"['Abandoned Vehicle', 'Parking - Enforcement', 'Traffic Signals']\", 'how do i contribute to the beautification of the town park. i want to install a fountain there. who do i talk to?']\n",
            "[\"['Park Maintenance']\", \"['Homeless Concerns', 'Pothole', 'Abandoned Vehicle']\", 'can i plant trees in the city park without permission. if no where do i get permission to plant trees?']\n",
            "[\"['Park Maintenance']\", \"['Abandoned Vehicle', 'Homeless Concerns', 'Traffic Signals']\", 'i want to contribute to the beautification of the city park? can i apply for community service there?']\n",
            "[\"['Park Maintenance']\", \"['Nuisance On Property', 'Traffic Signs', 'Drainage Issues']\", 'how does one apply for a job as a groundskeeper of the city park?']\n",
            "[\"['Park Maintenance']\", \"['Trees Issues', 'Traffic Signs', 'Traffic Signals']\", 'our park does not allow animals, this is ridiculous, every city park should have an area where people can walk their pets. who do i talk to about this?']\n",
            "[\"['Park Maintenance']\", \"['Traffic Signals', 'Drainage Issues', 'Pothole']\", 'i found some 10 dead birds under a tree in the park while walking yesterday. they were arranged in a geometrical shape, i am pretty sure someone is killing birds without any reason. the park keepers should look into this.']\n",
            "[\"['Park Maintenance']\", \"['Traffic Signs', 'Pests', 'Pothole']\", 'what legal procedures do i have to follow to donate to the city park funds?']\n",
            "[\"['Park Maintenance']\", \"['Traffic Signs', 'Pothole', 'Animal Issues']\", 'the park has not been cleaning the dry leaves and since it allows smoking in its premises i am afraid that someone will toss a burning cigarette into the dry leaves and set the whole thing on fire. someone needs to look out for this, either clear the dry leaves or stop people from smoking in the park.']\n",
            "[\"['Pests']\", \"['Parking - Enforcement', 'Traffic Signs', 'Traffic Signals']\", 'my house is infested with mosquitoes, i found a little pool of stagnant water in my backyard where they have been breeding. please send someone to exterminate them.']\n",
            "[\"['Pests']\", \"['Abandoned Vehicle', 'Parking - Enforcement', 'Homeless Concerns']\", 'i would like to report a cockroach infestation in my kitchen.']\n",
            "[\"['Pests']\", \"['Animal Issues', 'Graffiti', 'Traffic Signs']\", 'i would request for vector control service near the clogged drains in my area']\n",
            "[\"['Pests']\", \"['Traffic Signals', 'Abandoned Vehicle', 'Sidewalk']\", 'please take steps to remove mosquitogenic conditions at the construction site in our locality']\n",
            "[\"['Pests']\", \"['Pothole', 'Traffic Signs', 'Parking - Enforcement']\", 'is pest control safe for children, preganat woman and elderly?']\n",
            "[\"['Pests']\", \"['Parking - Enforcement', 'Animal Issues', 'Street Light']\", 'take immediate steps to control pests that are affecting our crops.']\n",
            "[\"['Pests']\", \"['Pothole', 'Street Light', 'Traffic Signals']\", 'what is the contact number for pest control service in our area']\n",
            "[\"['Pests']\", \"['Abandoned Vehicle', 'Homeless Concerns', 'Traffic Signals']\", 'how can i report for pest control service for my farm? the number of mouses here have increased significantly.']\n",
            "[\"['Pests']\", \"['Traffic Signs', 'Abandoned Vehicle', 'Illegal Construction']\", 'i would like to book for mosquito vector control by fumingation in our house.']\n",
            "[\"['Pests']\", \"['Abandoned Vehicle', 'Illegal Dumping', 'Homeless Concerns']\", 'are pest control services safe for people with allergies or asthma or some mild medical conditions?']\n",
            "[\"['Pests']\", \"['Homeless Concerns', 'Abandoned Vehicle', 'Traffic Signals']\", 'how frequently should i request for cockroach control services for my house?']\n",
            "[\"['Pests']\", \"['Traffic Signals', 'Illegal Construction', 'Park Maintenance']\", 'there has been an increase of bed-bugs in my house. i want immediate action for my safety.']\n",
            "['Yard and Structure Concern', 'Drainage Issues', 'Noise Concern', 'Pothole', 'Traffic Signs', 'Trees Issues', 'Street Light', 'Animal Issues', 'Illegal Dumping', 'Parking - Enforcement', 'Nuisance On Property', 'Traffic Signals', 'Sidewalk', 'Abandoned Vehicle', 'Illegal Construction', 'Homeless Concerns', 'Graffiti', 'Health Issues', 'Park Maintenance', 'Pests']\n",
            "20\n"
          ],
          "name": "stdout"
        }
      ]
    },
    {
      "cell_type": "code",
      "metadata": {
        "id": "hkfE6NRA0Dzy",
        "colab_type": "code",
        "colab": {
          "base_uri": "https://localhost:8080/",
          "height": 714
        },
        "outputId": "fe077497-ca88-4d8a-e9d2-a0d86a181655"
      },
      "source": [
        "sequence = \"there has been an increase of bed-bugs in my house. i want immediate action for my safety.\"\n",
        "# candidate_labels = [\"politics\", \"public health\", \"economics\"]\n",
        "candidate_labels = labellist\n",
        "\n",
        "classifier(sequence, candidate_labels)"
      ],
      "execution_count": 22,
      "outputs": [
        {
          "output_type": "execute_result",
          "data": {
            "text/plain": [
              "{'labels': ['Pests',\n",
              "  'Nuisance On Property',\n",
              "  'Health Issues',\n",
              "  'Homeless Concerns',\n",
              "  'Yard and Structure Concern',\n",
              "  'Noise Concern',\n",
              "  'Trees Issues',\n",
              "  'Street Light',\n",
              "  'Parking - Enforcement',\n",
              "  'Sidewalk',\n",
              "  'Pothole',\n",
              "  'Abandoned Vehicle',\n",
              "  'Graffiti',\n",
              "  'Animal Issues',\n",
              "  'Traffic Signals',\n",
              "  'Drainage Issues',\n",
              "  'Illegal Construction',\n",
              "  'Park Maintenance',\n",
              "  'Illegal Dumping',\n",
              "  'Traffic Signs'],\n",
              " 'scores': [0.5721617937088013,\n",
              "  0.2242060899734497,\n",
              "  0.05974138528108597,\n",
              "  0.031492482870817184,\n",
              "  0.015548186376690865,\n",
              "  0.013904379680752754,\n",
              "  0.011213165707886219,\n",
              "  0.010044253431260586,\n",
              "  0.007591406814754009,\n",
              "  0.007492472883313894,\n",
              "  0.007230740040540695,\n",
              "  0.006710365880280733,\n",
              "  0.0059967911802232265,\n",
              "  0.005710178520530462,\n",
              "  0.004486944526433945,\n",
              "  0.004448456224054098,\n",
              "  0.003633158979937434,\n",
              "  0.0033168077934533358,\n",
              "  0.00302411918528378,\n",
              "  0.0020468460861593485],\n",
              " 'sequence': 'there has been an increase of bed-bugs in my house. i want immediate action for my safety.'}"
            ]
          },
          "metadata": {
            "tags": []
          },
          "execution_count": 22
        }
      ]
    },
    {
      "cell_type": "markdown",
      "metadata": {
        "id": "PGXwxxyn9nOC",
        "colab_type": "text"
      },
      "source": [
        "To do multi-class classification, simply pass `multi_class=True`. In this case, the scores will be independent, but each will fall between 0 and 1."
      ]
    },
    {
      "cell_type": "code",
      "metadata": {
        "id": "ZvZeVb2h5RX0",
        "colab_type": "code",
        "colab": {
          "base_uri": "https://localhost:8080/",
          "height": 119
        },
        "outputId": "f56db377-df55-467d-94e9-d82e8eef4284"
      },
      "source": [
        "sequence = \"Who are you voting for in 2020?\"\n",
        "candidate_labels = [\"politics\", \"public health\", \"economics\", \"elections\"]\n",
        "\n",
        "classifier(sequence, candidate_labels, multi_class=True)"
      ],
      "execution_count": 5,
      "outputs": [
        {
          "output_type": "execute_result",
          "data": {
            "text/plain": [
              "{'labels': ['politics', 'elections', 'public health', 'economics'],\n",
              " 'scores': [0.972069501876831,\n",
              "  0.967610776424408,\n",
              "  0.03248710557818413,\n",
              "  0.0061644683592021465],\n",
              " 'sequence': 'Who are you voting for in 2020?'}"
            ]
          },
          "metadata": {
            "tags": []
          },
          "execution_count": 5
        }
      ]
    },
    {
      "cell_type": "markdown",
      "metadata": {
        "id": "lLLeDT1r9-yQ",
        "colab_type": "text"
      },
      "source": [
        "Here's an example of sentiment classification: "
      ]
    },
    {
      "cell_type": "code",
      "metadata": {
        "id": "f7AF53Wl5f8W",
        "colab_type": "code",
        "colab": {
          "base_uri": "https://localhost:8080/",
          "height": 69
        },
        "outputId": "fd1c8c8c-b68b-440e-bc94-0d3c7dd8d283"
      },
      "source": [
        "sequence = \"I hated this movie. The acting sucked.\"\n",
        "candidate_labels = [\"positive\", \"negative\"]\n",
        "\n",
        "classifier(sequence, candidate_labels)"
      ],
      "execution_count": null,
      "outputs": [
        {
          "output_type": "execute_result",
          "data": {
            "text/plain": [
              "{'labels': ['negative', 'positive'],\n",
              " 'scores': [0.9916268587112427, 0.00837317667901516],\n",
              " 'sequence': 'I hated this movie. The acting sucked.'}"
            ]
          },
          "metadata": {
            "tags": []
          },
          "execution_count": 42
        }
      ]
    },
    {
      "cell_type": "markdown",
      "metadata": {
        "id": "uSoBpCpV6k4s",
        "colab_type": "text"
      },
      "source": [
        "So how does this method work?\n",
        "\n",
        "The underlying model is trained on the task of Natural Language Inference (NLI), which takes in two sequences and determines whether they contradict each other, entail each other, or neither.\n",
        "\n",
        "This can be adapted to the task of zero-shot classification by treating the sequence which we want to classify as one NLI sequence (called the premise) and turning a candidate label into the other (the hypothesis). If the model predicts that the constructed premise _entails_ the hypothesis, then we can take that as a prediction that the label applies to the text. Check out [this blog post](https://joeddav.github.io/blog/2020/05/29/ZSL.html) for a more detailed explanation.\n",
        "\n",
        "By default, the pipeline turns labels into hypotheses with the template `This example is {class_name}.`. This works well in many settings, but you can also customize this for your specific setting. Let's add another review to our above sentiment classification example that's a bit more challenging:"
      ]
    },
    {
      "cell_type": "code",
      "metadata": {
        "id": "5yLx3pRr5xQA",
        "colab_type": "code",
        "colab": {
          "base_uri": "https://localhost:8080/",
          "height": 121
        },
        "outputId": "725212c9-4759-4457-ef4f-dc9b5ae20d84"
      },
      "source": [
        "sequences = [\n",
        "    \"I hated this movie. The acting sucked.\",\n",
        "    \"This movie didn't quite live up to my high expectations, but overall I still really enjoyed it.\"\n",
        "]\n",
        "candidate_labels = [\"positive\", \"negative\"]\n",
        "\n",
        "classifier(sequences, candidate_labels)"
      ],
      "execution_count": null,
      "outputs": [
        {
          "output_type": "execute_result",
          "data": {
            "text/plain": [
              "[{'labels': ['negative', 'positive'],\n",
              "  'scores': [0.9916267991065979, 0.008373182266950607],\n",
              "  'sequence': 'I hated this movie. The acting sucked.'},\n",
              " {'labels': ['negative', 'positive'],\n",
              "  'scores': [0.8148515820503235, 0.1851484179496765],\n",
              "  'sequence': \"This movie didn't quite live up to my high expectations, but overall I still really enjoyed it.\"}]"
            ]
          },
          "metadata": {
            "tags": []
          },
          "execution_count": 43
        }
      ]
    },
    {
      "cell_type": "markdown",
      "metadata": {
        "id": "CfrpyGWM782R",
        "colab_type": "text"
      },
      "source": [
        "The second example is a bit harder. Let's see if we can improve the results by using a hypothesis template which is more specific to the setting of review sentiment analysis. Instead of the default, `This example is {}.`, we'll use, `The sentiment of this review is {}.` (where `{}` is replaced with the candidate class name)"
      ]
    },
    {
      "cell_type": "code",
      "metadata": {
        "id": "kqx5hp7X8XNA",
        "colab_type": "code",
        "colab": {
          "base_uri": "https://localhost:8080/",
          "height": 121
        },
        "outputId": "73a84935-de37-4f2c-abdc-46dacd6614ea"
      },
      "source": [
        "sequences = [\n",
        "    \"I hated this movie. The acting sucked.\",\n",
        "    \"This movie didn't quite live up to my high expectations, but overall I still really enjoyed it.\"\n",
        "]\n",
        "candidate_labels = [\"positive\", \"negative\"]\n",
        "hypothesis_template = \"The sentiment of this review is {}.\"\n",
        "\n",
        "classifier(sequences, candidate_labels, hypothesis_template=hypothesis_template)"
      ],
      "execution_count": null,
      "outputs": [
        {
          "output_type": "execute_result",
          "data": {
            "text/plain": [
              "[{'labels': ['negative', 'positive'],\n",
              "  'scores': [0.9890093207359314, 0.010990672744810581],\n",
              "  'sequence': 'I hated this movie. The acting sucked.'},\n",
              " {'labels': ['positive', 'negative'],\n",
              "  'scores': [0.9581228494644165, 0.0418771356344223],\n",
              "  'sequence': \"This movie didn't quite live up to my high expectations, but overall I still really enjoyed it.\"}]"
            ]
          },
          "metadata": {
            "tags": []
          },
          "execution_count": 44
        }
      ]
    },
    {
      "cell_type": "markdown",
      "metadata": {
        "id": "iArbRAe781-_",
        "colab_type": "text"
      },
      "source": [
        "By providing a more precise hypothesis template, we are able to see a more accurate classification of the second review.\n",
        "\n",
        "> Note that sentiment classification is used here just as an illustrative example. The [Hugging Face Model Hub](https://huggingface.co/models?filter=text-classification) has a number of models trained specifically on sentiment tasks which can be used instead."
      ]
    }
  ]
}